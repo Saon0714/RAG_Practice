{
 "cells": [
  {
   "cell_type": "code",
   "execution_count": 10,
   "id": "2ea1af21",
   "metadata": {},
   "outputs": [],
   "source": [
    "import os\n",
    "from dotenv import load_dotenv\n",
    "load_dotenv()\n",
    "\n",
    "# Load environment variables\n",
    "os.environ[\"WEAVIATE_API_KEY\"] = os.getenv(\"WEAVIATE_API_KEY\")\n",
    "os.environ[\"WEAVIATE_CLUSTER_URL\"] = os.getenv(\"WEAVIATE_CLUSTER_URL\")\n",
    "os.environ[\"OPENAI_API_KEY\"] = os.getenv(\"OPENAI_API_KEY\")\n",
    "os.environ[\"GROQ_API_KEY\"] = os.getenv(\"GROQ_API_KEY\")\n"
   ]
  },
  {
   "cell_type": "code",
   "execution_count": 3,
   "id": "d4ff1603",
   "metadata": {},
   "outputs": [
    {
     "data": {
      "text/plain": [
       "<weaviate.client.WeaviateClient at 0x104594cb0>"
      ]
     },
     "execution_count": 3,
     "metadata": {},
     "output_type": "execute_result"
    }
   ],
   "source": [
    "import weaviate\n",
    "from weaviate.classes.init import Auth\n",
    "\n",
    "cluster_url = os.environ.get(\"WEAVIATE_CLUSTER_URL\", \"http://localhost:8080\")  # We can host Weaviate locally using Docker\n",
    "api_key = os.environ.get(\"WEAVIATE_API_KEY\")\n",
    "\n",
    "if api_key:\n",
    "    client = weaviate.connect_to_weaviate_cloud(\n",
    "        cluster_url=cluster_url,\n",
    "        auth_credentials=Auth.api_key(api_key)\n",
    "    )\n",
    "else:\n",
    "    client = weaviate.Client(cluster_url)  # Local OSS without auth\n",
    "client\n"
   ]
  },
  {
   "cell_type": "code",
   "execution_count": 4,
   "id": "ddf9e4d5",
   "metadata": {},
   "outputs": [],
   "source": [
    "from langchain_openai import OpenAIEmbeddings\n",
    "\n",
    "embeddings = OpenAIEmbeddings(model=\"text-embedding-3-small\", dimensions=1024)"
   ]
  },
  {
   "cell_type": "code",
   "execution_count": 5,
   "id": "8ed8c872",
   "metadata": {},
   "outputs": [
    {
     "data": {
      "text/plain": [
       "<langchain_weaviate.vectorstores.WeaviateVectorStore at 0x1127cbbc0>"
      ]
     },
     "execution_count": 5,
     "metadata": {},
     "output_type": "execute_result"
    }
   ],
   "source": [
    "from langchain_weaviate.vectorstores import WeaviateVectorStore\n",
    "\n",
    "vector_db = WeaviateVectorStore(\n",
    "    client=client,\n",
    "    index_name=\"RAG\",\n",
    "    text_key=\"content\",\n",
    "    embedding=embeddings,\n",
    ")\n",
    "vector_db"
   ]
  },
  {
   "cell_type": "code",
   "execution_count": 12,
   "id": "95d6661a",
   "metadata": {},
   "outputs": [
    {
     "data": {
      "text/plain": [
       "['9b3a1883-f328-4d78-8376-27bcfbe23984',\n",
       " 'a76cc67f-2469-4fe0-b183-709e8f7ec707',\n",
       " 'd700b6d5-8229-4cd4-8057-394bbcf2bee5',\n",
       " 'a18ac6e9-258e-436e-aa8b-d433651fb1b1',\n",
       " 'a54fcacf-3855-44aa-9a93-985eafe03f9c',\n",
       " '70ab853e-c216-4d07-8b1d-5abc232f2f5b',\n",
       " '6605b3da-8e80-4720-8bf7-d9bf3a4cf759',\n",
       " '252adda2-3473-4a62-b274-211bc5857a52',\n",
       " 'dc6f4478-9312-4052-9c60-ee77eee3b048',\n",
       " 'a4a13d7b-fdbf-4228-b995-24f103caa660']"
      ]
     },
     "execution_count": 12,
     "metadata": {},
     "output_type": "execute_result"
    }
   ],
   "source": [
    "from langchain_core.documents import Document\n",
    "\n",
    "documents = [\n",
    "    Document(page_content=\"I had chocolate chip pancakes and scrambled eggs for breakfast this morning.\", metadata={\"source\": \"tweet\"}),\n",
    "    Document(page_content=\"The weather forecast for tomorrow is cloudy and overcast, with a high of 62 degrees.\", metadata={\"source\": \"news\"}),\n",
    "    Document(page_content=\"Building an exciting new project with LangChain - come check it out!\", metadata={\"source\": \"tweet\"}),\n",
    "    Document(page_content=\"Robbers broke into the city bank and stole $1 million in cash.\", metadata={\"source\": \"news\"}),\n",
    "    Document(page_content=\"Wow! That was an amazing movie. I can't wait to see it again.\", metadata={\"source\": \"tweet\"}),\n",
    "    Document(page_content=\"Is the new iPhone worth the price? Read this review to find out.\", metadata={\"source\": \"website\"}),\n",
    "    Document(page_content=\"The top 10 soccer players in the world right now.\", metadata={\"source\": \"website\"}),\n",
    "    Document(page_content=\"LangGraph is the best framework for building stateful, agentic applications!\", metadata={\"source\": \"tweet\"}),\n",
    "    Document(page_content=\"The stock market is down 500 points today due to fears of a recession.\", metadata={\"source\": \"news\"}),\n",
    "    Document(page_content=\"I have a bad feeling I am going to get deleted :(\", metadata={\"source\": \"tweet\"})\n",
    "]\n",
    "\n",
    "vector_db.add_documents(documents=documents)"
   ]
  },
  {
   "cell_type": "code",
   "execution_count": null,
   "id": "64a091e3",
   "metadata": {},
   "outputs": [],
   "source": [
    "# client.collections.delete(\"RAG\")  # drops entire collection\n"
   ]
  },
  {
   "cell_type": "code",
   "execution_count": 16,
   "id": "cdae5bb2",
   "metadata": {},
   "outputs": [
    {
     "data": {
      "text/plain": [
       "[Document(metadata={'source': 'tweet'}, page_content='Building an exciting new project with LangChain - come check it out!'),\n",
       " Document(metadata={'source': 'tweet'}, page_content='LangGraph is the best framework for building stateful, agentic applications!')]"
      ]
     },
     "execution_count": 16,
     "metadata": {},
     "output_type": "execute_result"
    }
   ],
   "source": [
    "results = vector_db.similarity_search(\n",
    "    \"LangChain provides abstractions to make working with LLMs easy\",\n",
    "    k=2,\n",
    ")\n",
    "results"
   ]
  },
  {
   "cell_type": "code",
   "execution_count": 8,
   "id": "4205a4fc",
   "metadata": {},
   "outputs": [
    {
     "data": {
      "text/plain": [
       "[Document(metadata={'source': 'tweet'}, page_content='Building an exciting new project with LangChain - come check it out!'),\n",
       " Document(metadata={'source': 'tweet'}, page_content='LangGraph is the best framework for building stateful, agentic applications!'),\n",
       " Document(metadata={'source': 'tweet'}, page_content=\"Wow! That was an amazing movie. I can't wait to see it again.\")]"
      ]
     },
     "execution_count": 8,
     "metadata": {},
     "output_type": "execute_result"
    }
   ],
   "source": [
    "### Retriever \n",
    "retriever = vector_db.as_retriever(\n",
    "    search_type=\"similarity_score_threshold\",\n",
    "    search_kwargs={\"k\": 3, \"score_threshold\": 0.4},\n",
    ")\n",
    "retriever.invoke(\"LangChain provides abstractions to make working with LLMs easy\")"
   ]
  },
  {
   "cell_type": "code",
   "execution_count": 11,
   "id": "22457a3a",
   "metadata": {},
   "outputs": [
    {
     "data": {
      "text/plain": [
       "ChatGroq(client=<groq.resources.chat.completions.Completions object at 0x121b2da30>, async_client=<groq.resources.chat.completions.AsyncCompletions object at 0x121b2ffb0>, model_name='openai/gpt-oss-20b', model_kwargs={}, groq_api_key=SecretStr('**********'))"
      ]
     },
     "execution_count": 11,
     "metadata": {},
     "output_type": "execute_result"
    }
   ],
   "source": [
    "from langchain_groq import ChatGroq\n",
    "llm = ChatGroq(model=\"openai/gpt-oss-20b\")\n",
    "llm"
   ]
  },
  {
   "cell_type": "code",
   "execution_count": 12,
   "id": "d4b9a7c1",
   "metadata": {},
   "outputs": [],
   "source": [
    "from langchain.chains import create_retrieval_chain\n",
    "from langchain_core.prompts import ChatPromptTemplate\n",
    "from langchain.chains.combine_documents import create_stuff_documents_chain"
   ]
  },
  {
   "cell_type": "code",
   "execution_count": 13,
   "id": "5eeb97f6",
   "metadata": {},
   "outputs": [],
   "source": [
    "\n",
    "from langchain_core.prompts import ChatPromptTemplate\n",
    "## Create a prompt template\n",
    "system_prompt=\"\"\"You are an assistant for question-answering tasks. \n",
    "Use the following pieces of retrieved context to answer the question. \n",
    "If you don't know the answer, just say that you don't know. \n",
    "Use three sentences maximum and keep the answer concise.\n",
    "\n",
    "Context: {context}\"\"\"\n",
    "\n",
    "prompt = ChatPromptTemplate.from_messages([\n",
    "    (\"system\", system_prompt),\n",
    "    (\"human\", \"{input}\")\n",
    "])"
   ]
  },
  {
   "cell_type": "code",
   "execution_count": 14,
   "id": "471c4e14",
   "metadata": {},
   "outputs": [
    {
     "data": {
      "text/plain": [
       "RunnableBinding(bound=RunnableBinding(bound=RunnableAssign(mapper={\n",
       "  context: RunnableLambda(format_docs)\n",
       "}), kwargs={}, config={'run_name': 'format_inputs'}, config_factories=[])\n",
       "| ChatPromptTemplate(input_variables=['context', 'input'], input_types={}, partial_variables={}, messages=[SystemMessagePromptTemplate(prompt=PromptTemplate(input_variables=['context'], input_types={}, partial_variables={}, template=\"You are an assistant for question-answering tasks. \\nUse the following pieces of retrieved context to answer the question. \\nIf you don't know the answer, just say that you don't know. \\nUse three sentences maximum and keep the answer concise.\\n\\nContext: {context}\"), additional_kwargs={}), HumanMessagePromptTemplate(prompt=PromptTemplate(input_variables=['input'], input_types={}, partial_variables={}, template='{input}'), additional_kwargs={})])\n",
       "| ChatGroq(client=<groq.resources.chat.completions.Completions object at 0x121b2da30>, async_client=<groq.resources.chat.completions.AsyncCompletions object at 0x121b2ffb0>, model_name='openai/gpt-oss-20b', model_kwargs={}, groq_api_key=SecretStr('**********'))\n",
       "| StrOutputParser(), kwargs={}, config={'run_name': 'stuff_documents_chain'}, config_factories=[])"
      ]
     },
     "execution_count": 14,
     "metadata": {},
     "output_type": "execute_result"
    }
   ],
   "source": [
    "### Create a document chain\n",
    "from langchain.chains.combine_documents import create_stuff_documents_chain\n",
    "document_chain=create_stuff_documents_chain(llm,prompt)\n",
    "document_chain"
   ]
  },
  {
   "cell_type": "code",
   "execution_count": 15,
   "id": "bf0e3116",
   "metadata": {},
   "outputs": [
    {
     "data": {
      "text/plain": [
       "RunnableBinding(bound=RunnableAssign(mapper={\n",
       "  context: RunnableBinding(bound=RunnableLambda(lambda x: x['input'])\n",
       "           | VectorStoreRetriever(tags=['WeaviateVectorStore', 'OpenAIEmbeddings'], vectorstore=<langchain_weaviate.vectorstores.WeaviateVectorStore object at 0x1127cbbc0>, search_type='similarity_score_threshold', search_kwargs={'k': 3, 'score_threshold': 0.4}), kwargs={}, config={'run_name': 'retrieve_documents'}, config_factories=[])\n",
       "})\n",
       "| RunnableAssign(mapper={\n",
       "    answer: RunnableBinding(bound=RunnableBinding(bound=RunnableAssign(mapper={\n",
       "              context: RunnableLambda(format_docs)\n",
       "            }), kwargs={}, config={'run_name': 'format_inputs'}, config_factories=[])\n",
       "            | ChatPromptTemplate(input_variables=['context', 'input'], input_types={}, partial_variables={}, messages=[SystemMessagePromptTemplate(prompt=PromptTemplate(input_variables=['context'], input_types={}, partial_variables={}, template=\"You are an assistant for question-answering tasks. \\nUse the following pieces of retrieved context to answer the question. \\nIf you don't know the answer, just say that you don't know. \\nUse three sentences maximum and keep the answer concise.\\n\\nContext: {context}\"), additional_kwargs={}), HumanMessagePromptTemplate(prompt=PromptTemplate(input_variables=['input'], input_types={}, partial_variables={}, template='{input}'), additional_kwargs={})])\n",
       "            | ChatGroq(client=<groq.resources.chat.completions.Completions object at 0x121b2da30>, async_client=<groq.resources.chat.completions.AsyncCompletions object at 0x121b2ffb0>, model_name='openai/gpt-oss-20b', model_kwargs={}, groq_api_key=SecretStr('**********'))\n",
       "            | StrOutputParser(), kwargs={}, config={'run_name': 'stuff_documents_chain'}, config_factories=[])\n",
       "  }), kwargs={}, config={'run_name': 'retrieval_chain'}, config_factories=[])"
      ]
     },
     "execution_count": 15,
     "metadata": {},
     "output_type": "execute_result"
    }
   ],
   "source": [
    "### Create The Final RAG Chain\n",
    "from langchain.chains import create_retrieval_chain\n",
    "rag_chain=create_retrieval_chain(retriever,document_chain)\n",
    "rag_chain"
   ]
  },
  {
   "cell_type": "code",
   "execution_count": 19,
   "id": "5f901153",
   "metadata": {},
   "outputs": [
    {
     "data": {
      "text/plain": [
       "'You had chocolate chip pancakes and scrambled eggs for breakfast.'"
      ]
     },
     "execution_count": 19,
     "metadata": {},
     "output_type": "execute_result"
    }
   ],
   "source": [
    "response = rag_chain.invoke({\"input\": \"What I had for breakfast?\"})\n",
    "response[\"answer\"]"
   ]
  },
  {
   "cell_type": "code",
   "execution_count": null,
   "id": "cbd9a9ed",
   "metadata": {},
   "outputs": [],
   "source": []
  }
 ],
 "metadata": {
  "kernelspec": {
   "display_name": "RAG",
   "language": "python",
   "name": "python3"
  },
  "language_info": {
   "codemirror_mode": {
    "name": "ipython",
    "version": 3
   },
   "file_extension": ".py",
   "mimetype": "text/x-python",
   "name": "python",
   "nbconvert_exporter": "python",
   "pygments_lexer": "ipython3",
   "version": "3.12.9"
  }
 },
 "nbformat": 4,
 "nbformat_minor": 5
}
