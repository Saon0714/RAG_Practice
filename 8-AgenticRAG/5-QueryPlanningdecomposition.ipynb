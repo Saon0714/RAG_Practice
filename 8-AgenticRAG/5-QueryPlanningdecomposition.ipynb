{
 "cells": [
  {
   "cell_type": "markdown",
   "id": "85c73ca1",
   "metadata": {},
   "source": [
    "### 🧠 What is Query Planning and Decomposition?\n",
    "Query Planning and Decomposition is a technique where a complex user query is broken down into simpler sub-questions or tasks, allowing a system (like a RAG agent) to:\n",
    "\n",
    "- Understand the question more deeply\n",
    "- Retrieve more precise and complete information\n",
    "- Execute step-by-step reasoning\n",
    "\n",
    "It's like reverse-engineering a question into manageable steps before answering.\n",
    "\n",
    "🧠 What's New in This Version?\n",
    "- ✅ Add a Query Planner Node\n",
    "- ✅ Break complex user queries into sub-questions\n",
    "- ✅ Retrieve docs per sub-question\n",
    "- ✅ Combine all retrieved contexts\n",
    "- ✅ Generate a final consolidated answer\n",
    "\n",
    "\n",
    "Example:\n",
    "Query: “Compare the GDP of India in 2020 with the population of India in 2020, and compute GDP per capita.”\n",
    "\n",
    "Query plan decomposition (explicit):\n",
    "\n",
    "Fetch GDP of India in 2020 (→ call World Bank API).\n",
    "\n",
    "Fetch population of India in 2020 (→ call Wikipedia/DB).\n",
    "\n",
    "Divide GDP / Population (→ use calculator tool).\n",
    "\n",
    "Return result as GDP per capita.\n",
    "\n",
    "Execution: Tools are invoked for each step, then results are combined."
   ]
  },
  {
   "cell_type": "code",
   "execution_count": 1,
   "id": "9b6a1663",
   "metadata": {},
   "outputs": [
    {
     "name": "stderr",
     "output_type": "stream",
     "text": [
      "USER_AGENT environment variable not set, consider setting it to identify your requests.\n"
     ]
    }
   ],
   "source": [
    "import os\n",
    "from typing import List\n",
    "from pydantic import BaseModel\n",
    "from langchain_openai import OpenAIEmbeddings\n",
    "from langchain.schema import Document\n",
    "from langchain.text_splitter import RecursiveCharacterTextSplitter\n",
    "from langchain.vectorstores import FAISS\n",
    "from langchain_community.document_loaders import TextLoader,WebBaseLoader\n",
    "from langgraph.graph import StateGraph, END"
   ]
  },
  {
   "cell_type": "code",
   "execution_count": 2,
   "id": "e1e649ad",
   "metadata": {},
   "outputs": [],
   "source": [
    "import os\n",
    "from langchain.chat_models import init_chat_model\n",
    "from dotenv import load_dotenv\n",
    "os.environ[\"OPENAI_API_KEY\"]=os.getenv(\"OPENAI_API_KEY\")\n",
    "llm=init_chat_model(\"openai:gpt-4o\")"
   ]
  },
  {
   "cell_type": "code",
   "execution_count": 3,
   "id": "da40f0fa",
   "metadata": {},
   "outputs": [],
   "source": [
    "# ----------------------------\n",
    "# 1. Load and Embed Documents\n",
    "# ----------------------------\n",
    "urls = [\n",
    "    \"https://lilianweng.github.io/posts/2023-06-23-agent/\",\n",
    "    \"https://lilianweng.github.io/posts/2024-04-12-diffusion-video/\"\n",
    "]\n",
    "docs = []\n",
    "for url in urls:\n",
    "    docs.extend(WebBaseLoader(url).load())\n",
    "\n",
    "splitter = RecursiveCharacterTextSplitter(chunk_size=500, chunk_overlap=50)\n",
    "chunks = splitter.split_documents(docs)\n",
    "\n",
    "embedding = OpenAIEmbeddings()\n",
    "vectorstore = FAISS.from_documents(chunks, embedding)\n",
    "retriever = vectorstore.as_retriever()\n"
   ]
  },
  {
   "cell_type": "code",
   "execution_count": 4,
   "id": "4fb30250",
   "metadata": {},
   "outputs": [],
   "source": [
    "# ----------------------------\n",
    "# 2. State Schema\n",
    "# ----------------------------\n",
    "class RAGState(BaseModel):\n",
    "    question: str\n",
    "    sub_questions: List[str] = []\n",
    "    retrieved_docs: List[Document] = []\n",
    "    answer: str = \"\""
   ]
  },
  {
   "cell_type": "code",
   "execution_count": 5,
   "id": "dff7d0b5",
   "metadata": {},
   "outputs": [],
   "source": [
    "# ----------------------------\n",
    "# 3. Nodes\n",
    "# ----------------------------\n",
    "\n",
    "## a. Query Planner: splits input question\n",
    "def plan_query(state: RAGState) -> RAGState:\n",
    "   \n",
    "    prompt = f\"\"\"\n",
    "Break the following complex question into 2-3 sub-questions:\n",
    "\n",
    "Question: {state.question}\n",
    "\n",
    "Sub-questions:\n",
    "\"\"\"\n",
    "    result = llm.invoke(prompt)\n",
    "    sub_questions = [line.strip(\"- \").strip() for line in result.content.strip().split(\"\\n\") if line.strip()]\n",
    "    return RAGState(question=state.question, sub_questions=sub_questions)\n",
    "\n",
    "## b. Retrieve documents for each sub-question\n",
    "def retrieve_for_each(state: RAGState) -> RAGState:\n",
    "    all_docs = []\n",
    "    for sub in state.sub_questions:\n",
    "        docs = retriever.invoke(sub)\n",
    "        all_docs.extend(docs)\n",
    "    return RAGState(question=state.question, sub_questions=state.sub_questions, retrieved_docs=all_docs)\n",
    "\n",
    "## c. Generate final answer\n",
    "def generate_final_answer(state: RAGState) -> RAGState:\n",
    "    context = \"\\n\\n\".join([doc.page_content for doc in state.retrieved_docs])\n",
    "    prompt = f\"\"\"\n",
    "Use the context below to answer the question.\n",
    "\n",
    "Context:\n",
    "{context}\n",
    "\n",
    "Question: {state.question}\n",
    "\"\"\"\n",
    "    \n",
    "    answer = llm.invoke(prompt).content\n",
    "    return RAGState(question=state.question, sub_questions=state.sub_questions, retrieved_docs=state.retrieved_docs, answer=answer)\n"
   ]
  },
  {
   "cell_type": "code",
   "execution_count": 6,
   "id": "c7293a67",
   "metadata": {},
   "outputs": [
    {
     "data": {
      "image/png": "[encoded data removed]",
      "text/plain": [
       "<langgraph.graph.state.CompiledStateGraph object at 0x120d92180>"
      ]
     },
     "execution_count": 6,
     "metadata": {},
     "output_type": "execute_result"
    }
   ],
   "source": [
    "# ----------------------------\n",
    "# 4. Build LangGraph\n",
    "# ----------------------------\n",
    "builder = StateGraph(RAGState)\n",
    "\n",
    "builder.add_node(\"planner\", plan_query)\n",
    "builder.add_node(\"retriever\", retrieve_for_each)\n",
    "builder.add_node(\"responder\", generate_final_answer)\n",
    "\n",
    "builder.set_entry_point(\"planner\")\n",
    "builder.add_edge(\"planner\", \"retriever\")\n",
    "builder.add_edge(\"retriever\", \"responder\")\n",
    "builder.add_edge(\"responder\", END)\n",
    "\n",
    "graph = builder.compile()\n",
    "graph"
   ]
  },
  {
   "cell_type": "code",
   "execution_count": 7,
   "id": "dcc27564",
   "metadata": {},
   "outputs": [
    {
     "name": "stdout",
     "output_type": "stream",
     "text": [
      "{'question': 'Explain how agent loops work and what are the challenges in diffusion video generation?', 'sub_questions': ['1. What are agent loops, and how do they function in video generation processes?', '2. What specific challenges are associated with diffusion methods in video generation?'], 'retrieved_docs': [Document(id='e7b5aac3-cdde-4d36-bc77-e36ad4cdbeab', metadata={'source': 'https://lilianweng.github.io/posts/2024-04-12-diffusion-video/', 'title': \"Diffusion Models for Video Generation | Lil'Log\", 'description': 'Diffusion models have demonstrated strong results on image synthesis in past years. Now the research community has started working on a harder task—using it for video generation. The task itself is a superset of the image case, since an image is a video of 1 frame, and it is much more challenging because:\\n\\nIt has extra requirements on temporal consistency across frames in time, which naturally demands more world knowledge to be encoded into the model.\\nIn comparison to text or images, it is more difficult to collect large amounts of high-quality, high-dimensional video data, let along text-video pairs.\\n\\n\\n\\n🥑 Required Pre-read: Please make sure you have read the previous blog on “What are Diffusion Models?” for image generation before continue here.\\n', 'language': 'en'}, page_content='In the case of video generation, we need the diffusion model to run multiple steps of upsampling for extending video length or increasing the frame rate. This requires the capability of sampling a second video $\\\\mathbf{x}^b$ conditioned on the first $\\\\mathbf{x}^a$, $\\\\mathbf{x}^b \\\\sim p_\\\\theta(\\\\mathbf{x}^b \\\\vert \\\\mathbf{x}^a)$, where $\\\\mathbf{x}^b$ might be an autoregressive extension of $\\\\mathbf{x}^a$ or be the missing frames in-between for a video $\\\\mathbf{x}^a$ at a low frame rate.'), Document(id='715fb3e3-36e7-489f-a72c-c78b867b3f02', metadata={'source': 'https://lilianweng.github.io/posts/2024-04-12-diffusion-video/', 'title': \"Diffusion Models for Video Generation | Lil'Log\", 'description': 'Diffusion models have demonstrated strong results on image synthesis in past years. Now the research community has started working on a harder task—using it for video generation. The task itself is a superset of the image case, since an image is a video of 1 frame, and it is much more challenging because:\\n\\nIt has extra requirements on temporal consistency across frames in time, which naturally demands more world knowledge to be encoded into the model.\\nIn comparison to text or images, it is more difficult to collect large amounts of high-quality, high-dimensional video data, let along text-video pairs.\\n\\n\\n\\n🥑 Required Pre-read: Please make sure you have read the previous blog on “What are Diffusion Models?” for image generation before continue here.\\n', 'language': 'en'}, page_content='Video Generation Modeling from Scratch#\\nFirst let’s review approaches for designing and training diffusion video models from scratch, meaning that we do not rely on pre-trained image generators.\\nParameterization & Sampling Basics#'), Document(id='d05da985-0471-433b-9927-e9348585ce93', metadata={'source': 'https://lilianweng.github.io/posts/2024-04-12-diffusion-video/', 'title': \"Diffusion Models for Video Generation | Lil'Log\", 'description': 'Diffusion models have demonstrated strong results on image synthesis in past years. Now the research community has started working on a harder task—using it for video generation. The task itself is a superset of the image case, since an image is a video of 1 frame, and it is much more challenging because:\\n\\nIt has extra requirements on temporal consistency across frames in time, which naturally demands more world knowledge to be encoded into the model.\\nIn comparison to text or images, it is more difficult to collect large amounts of high-quality, high-dimensional video data, let along text-video pairs.\\n\\n\\n\\n🥑 Required Pre-read: Please make sure you have read the previous blog on “What are Diffusion Models?” for image generation before continue here.\\n', 'language': 'en'}, page_content='Imagen Video (Ho, et al. 2022) is constructed on a cascade of diffusion models to enhance the video generation quality and upgrades to output 1280x768 videos at 24 fps. The Imagen Video architecture consists of the following components, counting 7 diffusion models in total.'), Document(id='5ed86f91-d322-4c10-b6f1-6b6c84b3b996', metadata={'source': 'https://lilianweng.github.io/posts/2024-04-12-diffusion-video/', 'title': \"Diffusion Models for Video Generation | Lil'Log\", 'description': 'Diffusion models have demonstrated strong results on image synthesis in past years. Now the research community has started working on a harder task—using it for video generation. The task itself is a superset of the image case, since an image is a video of 1 frame, and it is much more challenging because:\\n\\nIt has extra requirements on temporal consistency across frames in time, which naturally demands more world knowledge to be encoded into the model.\\nIn comparison to text or images, it is more difficult to collect large amounts of high-quality, high-dimensional video data, let along text-video pairs.\\n\\n\\n\\n🥑 Required Pre-read: Please make sure you have read the previous blog on “What are Diffusion Models?” for image generation before continue here.\\n', 'language': 'en'}, page_content='Imagen Video also applies progressive distillation to speed up sampling and each distillation iteration can reduce the required sampling steps by half. Their experiments were able to distill all 7 video diffusion models down to just 8 sampling steps per model without any noticeable loss in perceptual quality.'), Document(id='71adaf59-1289-49da-92bc-8b04de2fcabf', metadata={'source': 'https://lilianweng.github.io/posts/2024-04-12-diffusion-video/', 'title': \"Diffusion Models for Video Generation | Lil'Log\", 'description': 'Diffusion models have demonstrated strong results on image synthesis in past years. Now the research community has started working on a harder task—using it for video generation. The task itself is a superset of the image case, since an image is a video of 1 frame, and it is much more challenging because:\\n\\nIt has extra requirements on temporal consistency across frames in time, which naturally demands more world knowledge to be encoded into the model.\\nIn comparison to text or images, it is more difficult to collect large amounts of high-quality, high-dimensional video data, let along text-video pairs.\\n\\n\\n\\n🥑 Required Pre-read: Please make sure you have read the previous blog on “What are Diffusion Models?” for image generation before continue here.\\n', 'language': 'en'}, page_content='Adapting Image Models to Generate Videos\\n\\nFine-tuning on Video Data\\n\\nTraining-Free Adaptation\\n\\n\\nCitation\\n\\nReferences\\n\\n\\n\\n\\n\\nDiffusion models have demonstrated strong results on image synthesis in past years. Now the research community has started working on a harder task—using it for video generation. The task itself is a superset of the image case, since an image is a video of 1 frame, and it is much more challenging because:'), Document(id='8d47612f-bed7-4a70-a89c-1b893b778da0', metadata={'source': 'https://lilianweng.github.io/posts/2024-04-12-diffusion-video/', 'title': \"Diffusion Models for Video Generation | Lil'Log\", 'description': 'Diffusion models have demonstrated strong results on image synthesis in past years. Now the research community has started working on a harder task—using it for video generation. The task itself is a superset of the image case, since an image is a video of 1 frame, and it is much more challenging because:\\n\\nIt has extra requirements on temporal consistency across frames in time, which naturally demands more world knowledge to be encoded into the model.\\nIn comparison to text or images, it is more difficult to collect large amounts of high-quality, high-dimensional video data, let along text-video pairs.\\n\\n\\n\\n🥑 Required Pre-read: Please make sure you have read the previous blog on “What are Diffusion Models?” for image generation before continue here.\\n', 'language': 'en'}, page_content='[12] Esser et al. 2023 “Structure and Content-Guided Video Synthesis with Diffusion Models.”\\n[13] Bar-Tal et al. 2024 “Lumiere: A Space-Time Diffusion Model for Video Generation.”'), Document(id='e7b5aac3-cdde-4d36-bc77-e36ad4cdbeab', metadata={'source': 'https://lilianweng.github.io/posts/2024-04-12-diffusion-video/', 'title': \"Diffusion Models for Video Generation | Lil'Log\", 'description': 'Diffusion models have demonstrated strong results on image synthesis in past years. Now the research community has started working on a harder task—using it for video generation. The task itself is a superset of the image case, since an image is a video of 1 frame, and it is much more challenging because:\\n\\nIt has extra requirements on temporal consistency across frames in time, which naturally demands more world knowledge to be encoded into the model.\\nIn comparison to text or images, it is more difficult to collect large amounts of high-quality, high-dimensional video data, let along text-video pairs.\\n\\n\\n\\n🥑 Required Pre-read: Please make sure you have read the previous blog on “What are Diffusion Models?” for image generation before continue here.\\n', 'language': 'en'}, page_content='In the case of video generation, we need the diffusion model to run multiple steps of upsampling for extending video length or increasing the frame rate. This requires the capability of sampling a second video $\\\\mathbf{x}^b$ conditioned on the first $\\\\mathbf{x}^a$, $\\\\mathbf{x}^b \\\\sim p_\\\\theta(\\\\mathbf{x}^b \\\\vert \\\\mathbf{x}^a)$, where $\\\\mathbf{x}^b$ might be an autoregressive extension of $\\\\mathbf{x}^a$ or be the missing frames in-between for a video $\\\\mathbf{x}^a$ at a low frame rate.'), Document(id='2da3d7d1-a418-477b-9879-278a7f1e2cd5', metadata={'source': 'https://lilianweng.github.io/posts/2024-04-12-diffusion-video/', 'title': \"Diffusion Models for Video Generation | Lil'Log\", 'description': 'Diffusion models have demonstrated strong results on image synthesis in past years. Now the research community has started working on a harder task—using it for video generation. The task itself is a superset of the image case, since an image is a video of 1 frame, and it is much more challenging because:\\n\\nIt has extra requirements on temporal consistency across frames in time, which naturally demands more world knowledge to be encoded into the model.\\nIn comparison to text or images, it is more difficult to collect large amounts of high-quality, high-dimensional video data, let along text-video pairs.\\n\\n\\n\\n🥑 Required Pre-read: Please make sure you have read the previous blog on “What are Diffusion Models?” for image generation before continue here.\\n', 'language': 'en'}, page_content='[3] Bar-Tal et al. 2024 “Lumiere: A Space-Time Diffusion Model for Video Generation.”\\n[4] Brooks et al. “Video generation models as world simulators.” OpenAI Blog, 2024.\\n[5] Zhang et al. 2023 “ControlVideo: Training-free Controllable Text-to-Video Generation.”\\n[6] Khachatryan et al. 2023 “Text2Video-Zero: Text-to-image diffusion models are zero-shot video generators.”\\n[7] Ho, et al. 2022 “Imagen Video: High Definition Video Generation with Diffusion Models.”')], 'answer': \"Agent loops are not explicitly mentioned in the provided context about diffusion video generation, so let's focus on detailing the challenges involved in diffusion video generation based on the given information.\\n\\n### Challenges in Diffusion Video Generation\\n\\n1. **Complexity of Video Data**: Video generation is inherently more complex than image generation, as it involves creating a coherent sequence of frames over time rather than just a single frame. This requires maintaining both spatial and temporal coherence, which adds significant complexity to the task.\\n\\n2. **Upsampling Requirements**: The need to extend video length or increase frame rate requires sophisticated upsampling techniques. Specifically, this includes the ability to sample subsequent video segments conditioned on initial segments, maintaining the continuity and flow of motion throughout the video.\\n\\n3. **Autoregressive Extensions and Missing Frames**: The model should handle scenarios where it needs to predict potential future frames (autoregressive extensions) as well as interpolate missing frames to create smooth transitions in videos with low frame rates. This involves understanding the underlying dynamics and continuity of the scene depicted in the video.\\n\\n4. **Cascade of Diffusion Models**: As seen in approaches like Imagen Video, generating high-quality video often involves using a cascade of multiple diffusion models. Managing this cascade to ensure quality and efficiency is another challenge.\\n\\n5. **Sampling Efficiency**: Speeding up the sampling process without degrading the quality of the video output is a significant challenge. Techniques like progressive distillation are employed to reduce the number of necessary sampling steps, demanding careful optimization to balance performance with perceptual quality.\\n\\nOverall, diffusion video generation requires sophisticated modeling to address temporal dynamics, maintain visual coherence, efficiently handle high-dimensional data, and achieve high-quality output within practical time constraints.\"}\n",
      "\n",
      "🔍 Sub-questions:\n",
      "- 1. What are agent loops, and how do they function in video generation processes?\n",
      "- 2. What specific challenges are associated with diffusion methods in video generation?\n",
      "\n",
      "✅ Final Answer:\n",
      " Agent loops are not explicitly mentioned in the provided context about diffusion video generation, so let's focus on detailing the challenges involved in diffusion video generation based on the given information.\n",
      "\n",
      "### Challenges in Diffusion Video Generation\n",
      "\n",
      "1. **Complexity of Video Data**: Video generation is inherently more complex than image generation, as it involves creating a coherent sequence of frames over time rather than just a single frame. This requires maintaining both spatial and temporal coherence, which adds significant complexity to the task.\n",
      "\n",
      "2. **Upsampling Requirements**: The need to extend video length or increase frame rate requires sophisticated upsampling techniques. Specifically, this includes the ability to sample subsequent video segments conditioned on initial segments, maintaining the continuity and flow of motion throughout the video.\n",
      "\n",
      "3. **Autoregressive Extensions and Missing Frames**: The model should handle scenarios where it needs to predict potential future frames (autoregressive extensions) as well as interpolate missing frames to create smooth transitions in videos with low frame rates. This involves understanding the underlying dynamics and continuity of the scene depicted in the video.\n",
      "\n",
      "4. **Cascade of Diffusion Models**: As seen in approaches like Imagen Video, generating high-quality video often involves using a cascade of multiple diffusion models. Managing this cascade to ensure quality and efficiency is another challenge.\n",
      "\n",
      "5. **Sampling Efficiency**: Speeding up the sampling process without degrading the quality of the video output is a significant challenge. Techniques like progressive distillation are employed to reduce the number of necessary sampling steps, demanding careful optimization to balance performance with perceptual quality.\n",
      "\n",
      "Overall, diffusion video generation requires sophisticated modeling to address temporal dynamics, maintain visual coherence, efficiently handle high-dimensional data, and achieve high-quality output within practical time constraints.\n"
     ]
    }
   ],
   "source": [
    "# ----------------------------\n",
    "# 5. Run the pipeline\n",
    "# ----------------------------\n",
    "if __name__ == \"__main__\":\n",
    "    user_query = \"Explain how agent loops work and what are the challenges in diffusion video generation?\"\n",
    "    initial_state = RAGState(question=user_query)\n",
    "    final_state = graph.invoke(initial_state)\n",
    "    print(final_state)\n",
    "\n",
    "    print(\"\\n🔍 Sub-questions:\")\n",
    "    for q in final_state['sub_questions']:\n",
    "        print(\"-\", q)\n",
    "\n",
    "    print(\"\\n✅ Final Answer:\\n\", final_state['answer'])"
   ]
  },
  {
   "cell_type": "code",
   "execution_count": null,
   "id": "89e763e3",
   "metadata": {},
   "outputs": [],
   "source": []
  }
 ],
 "metadata": {
  "kernelspec": {
   "display_name": "rag-2",
   "language": "python",
   "name": "python3"
  },
  "language_info": {
   "codemirror_mode": {
    "name": "ipython",
    "version": 3
   },
   "file_extension": ".py",
   "mimetype": "text/x-python",
   "name": "python",
   "nbconvert_exporter": "python",
   "pygments_lexer": "ipython3",
   "version": "3.12.9"
  }
 },
 "nbformat": 4,
 "nbformat_minor": 5
}
