{
 "cells": [
  {
   "cell_type": "markdown",
   "id": "09ab35a0",
   "metadata": {},
   "source": [
    "### 🤖 What are Multi-Agent RAG Systems?\n",
    "A Multi-Agent RAG System splits the RAG pipeline into multiple specialized agents — each responsible for a specific role — and enables them to collaborate on a single query or task.\n",
    "\n",
    "#### 1. 📋 Multi-Agent Network RAG System with LangGraph\n",
    "Project Overview\n",
    "\n",
    "A beginner-friendly Retrieval-Augmented Generation (RAG) system that uses a multi-agent architecture to intelligently answer questions from your documents. Built with LangGraph v0.3 for workflow orchestration and OpenAI for language understanding.\n",
    "\n",
    "What It Does\n",
    "\n",
    "Transforms your documents (PDFs, text files) into a searchable knowledge base that can answer questions intelligently using AI. Simply upload documents and ask questions in natural language - the system finds relevant information and generates comprehensive answers.\n",
    "Key Features\n",
    "\n",
    "- 📚 Multi-Format Support: Handles PDF and text documents\n",
    "- 🤖 3-Agent Architecture: Specialized agents for document processing, retrieval, and answer generation\n",
    "- 🔍 Smart Search: Vector-based semantic search finds relevant information\n",
    "- 💬 Natural Language Q&A: Ask questions in plain English\n"
   ]
  },
  {
   "cell_type": "code",
   "execution_count": 1,
   "id": "e98587e7",
   "metadata": {},
   "outputs": [],
   "source": [
    "import os\n",
    "from dotenv import load_dotenv\n",
    "load_dotenv()\n",
    "from langchain.chat_models import init_chat_model\n",
    "os.environ[\"TAVILY_API_KEY\"]=os.getenv(\"TAVILY_API_KEY\")\n",
    "\n",
    "os.environ[\"OPENAI_API_KEY\"]=os.getenv(\"OPENAI_API_KEY\")"
   ]
  },
  {
   "cell_type": "code",
   "execution_count": 2,
   "id": "60dd4609",
   "metadata": {},
   "outputs": [
    {
     "data": {
      "text/plain": [
       "ChatOpenAI(client=<openai.resources.chat.completions.completions.Completions object at 0x10eff2e40>, async_client=<openai.resources.chat.completions.completions.AsyncCompletions object at 0x10eff3410>, root_client=<openai.OpenAI object at 0x1087e79b0>, root_async_client=<openai.AsyncOpenAI object at 0x10eff1610>, model_name='gpt-4o-mini', model_kwargs={}, openai_api_key=SecretStr('**********'))"
      ]
     },
     "execution_count": 2,
     "metadata": {},
     "output_type": "execute_result"
    }
   ],
   "source": [
    "llm=init_chat_model(\"openai:gpt-4o-mini\")\n",
    "llm"
   ]
  },
  {
   "cell_type": "code",
   "execution_count": 4,
   "id": "647d9e1e",
   "metadata": {},
   "outputs": [],
   "source": [
    "from typing import Annotated\n",
    "\n",
    "from langchain_tavily import TavilySearch\n",
    "from langchain_core.tools import tool\n",
    "from langchain.tools import WikipediaQueryRun\n",
    "from langchain.utilities import WikipediaAPIWrapper\n",
    "from langchain.document_loaders import TextLoader\n",
    "from langchain.vectorstores import FAISS\n",
    "from langchain_openai import OpenAIEmbeddings\n",
    "from langchain.text_splitter import RecursiveCharacterTextSplitter"
   ]
  },
  {
   "cell_type": "code",
   "execution_count": 5,
   "id": "0322592f",
   "metadata": {},
   "outputs": [],
   "source": [
    "tavily_tool=TavilySearch(max_results=5)"
   ]
  },
  {
   "cell_type": "code",
   "execution_count": 7,
   "id": "fe652630",
   "metadata": {},
   "outputs": [
    {
     "data": {
      "text/plain": [
       "Tool(name='InternalResearchNotes', description='Search internal research notes for experimental results', func=<function make_retriever_tool_from_text.<locals>.tool_func at 0x10f22f060>)"
      ]
     },
     "execution_count": 7,
     "metadata": {},
     "output_type": "execute_result"
    }
   ],
   "source": [
    "### generic function to create a retrieval tool\n",
    "from langchain.agents import Tool\n",
    "def make_retriever_tool_from_text(file,name,desc):\n",
    "    docs=TextLoader(file,encoding=\"utf-8\").load()\n",
    "    chunks = RecursiveCharacterTextSplitter(chunk_size=500, chunk_overlap=50).split_documents(docs)\n",
    "    vs = FAISS.from_documents(chunks, OpenAIEmbeddings())\n",
    "    retriever = vs.as_retriever()\n",
    "\n",
    "    def tool_func(query:str)->str:\n",
    "        print(f\"📚 Using tool: {name}\")\n",
    "        results = retriever.invoke(query)\n",
    "        return \"\\n\\n\".join(doc.page_content for doc in results)\n",
    "    \n",
    "    return Tool(name=name,description=desc,func=tool_func)\n",
    "\n",
    "\n",
    "internal_tool_1=make_retriever_tool_from_text(\"research_notes.txt\",\n",
    "                                              \"InternalResearchNotes\",\n",
    "                                              \"Search internal research notes for experimental results\")\n",
    "\n",
    "internal_tool_1"
   ]
  },
  {
   "cell_type": "code",
   "execution_count": 8,
   "id": "dbf31872",
   "metadata": {},
   "outputs": [],
   "source": [
    "from langchain_core.messages import BaseMessage, HumanMessage\n",
    "from langgraph.prebuilt import create_react_agent\n",
    "from langgraph.graph import MessagesState, END\n",
    "from langgraph.types import Command\n",
    "\n",
    "def get_next_node(last_message: BaseMessage, goto: str):\n",
    "    if \"FINAL ANSWER\" in last_message.content:\n",
    "        # Any agent decided the work is done\n",
    "        return END\n",
    "    return goto"
   ]
  },
  {
   "cell_type": "code",
   "execution_count": 9,
   "id": "f2ef34d3",
   "metadata": {},
   "outputs": [],
   "source": [
    "def make_system_prompt(suffix: str) -> str:\n",
    "    return (\n",
    "        \"You are a helpful AI assistant, collaborating with other assistants.\"\n",
    "        \" Use the provided tools to progress towards answering the question.\"\n",
    "        \" If you are unable to fully answer, that's OK, another assistant with different tools \"\n",
    "        \" will help where you left off. Execute what you can to make progress.\"\n",
    "        \" If you or any of the other assistants have the final answer or deliverable,\"\n",
    "        \" prefix your response with FINAL ANSWER so the team knows to stop.\"\n",
    "        f\"\\n{suffix}\"\n",
    "    )"
   ]
  },
  {
   "cell_type": "code",
   "execution_count": 11,
   "id": "822db5ae",
   "metadata": {},
   "outputs": [
    {
     "data": {
      "image/png": "[encoded data removed]",
      "text/plain": [
       "<langgraph.graph.state.CompiledStateGraph object at 0x12b186390>"
      ]
     },
     "execution_count": 11,
     "metadata": {},
     "output_type": "execute_result"
    }
   ],
   "source": [
    "### Reaearch agent and node\n",
    "\n",
    "research_agent=create_react_agent(\n",
    "    llm,\n",
    "    tools=[internal_tool_1,tavily_tool],\n",
    "    prompt=make_system_prompt(\"You can only do research. Use the tools that you are binded with, you can use both of them\" \\\n",
    "    \" You are working with a content writer colleague.\")\n",
    ")\n",
    "\n",
    "research_agent"
   ]
  },
  {
   "cell_type": "code",
   "execution_count": 12,
   "id": "c5087088",
   "metadata": {},
   "outputs": [],
   "source": [
    "## Reaearch node\n",
    "from typing import Literal\n",
    "def research_node(state:MessagesState)-> Command[Literal[\"blog_generator\",END]]:\n",
    "    result = research_agent.invoke(state)\n",
    "    goto = get_next_node(result[\"messages\"][-1], \"blog_generator\")\n",
    "\n",
    "    # wrap in a human message, as not all providers allow\n",
    "    # AI message at the last position of the input messages list\n",
    "    result[\"messages\"][-1] = HumanMessage(\n",
    "        content=result[\"messages\"][-1].content, name=\"researcher\"\n",
    "    )\n",
    "    return Command(\n",
    "        update={\n",
    "            # share internal message history of research agent with other agents\n",
    "            \"messages\": result[\"messages\"],\n",
    "        },\n",
    "        goto=goto,\n",
    "    )\n",
    "\n"
   ]
  },
  {
   "cell_type": "code",
   "execution_count": 13,
   "id": "8bc2028a",
   "metadata": {},
   "outputs": [
    {
     "data": {
      "image/png": "[encoded data removed]",
      "text/plain": [
       "<langgraph.graph.state.CompiledStateGraph object at 0x12b1874d0>"
      ]
     },
     "execution_count": 13,
     "metadata": {},
     "output_type": "execute_result"
    }
   ],
   "source": [
    "### Blog write agent\n",
    "blog_agent=create_react_agent(\n",
    "    llm,\n",
    "    tools=[],\n",
    "    prompt=make_system_prompt(\n",
    "        \"You can only write a detailed blog. You are working with a researcher colleague.\"\n",
    "    )\n",
    ")\n",
    "blog_agent"
   ]
  },
  {
   "cell_type": "code",
   "execution_count": 14,
   "id": "151be204",
   "metadata": {},
   "outputs": [],
   "source": [
    "\n",
    "def blog_node(state: MessagesState) -> Command[Literal[\"researcher\", END]]:\n",
    "    result = blog_agent.invoke(state)\n",
    "    goto = get_next_node(result[\"messages\"][-1], \"researcher\")\n",
    "    # wrap in a human message, as not all providers allow\n",
    "    # AI message at the last position of the input messages list\n",
    "    result[\"messages\"][-1] = HumanMessage(\n",
    "        content=result[\"messages\"][-1].content, name=\"blog_generator\"\n",
    "    )\n",
    "    return Command(\n",
    "        update={\n",
    "            # share internal message history of chart agent with other agents\n",
    "            \"messages\": result[\"messages\"],\n",
    "        },\n",
    "        goto=goto,\n",
    "    )"
   ]
  },
  {
   "cell_type": "code",
   "execution_count": 15,
   "id": "3cab0b1c",
   "metadata": {},
   "outputs": [
    {
     "data": {
      "image/png": "[encoded data removed]",
      "text/plain": [
       "<langgraph.graph.state.CompiledStateGraph object at 0x106974350>"
      ]
     },
     "execution_count": 15,
     "metadata": {},
     "output_type": "execute_result"
    }
   ],
   "source": [
    "from langgraph.graph import StateGraph, START\n",
    "\n",
    "workflow = StateGraph(MessagesState)\n",
    "workflow.add_node(\"researcher\", research_node)\n",
    "workflow.add_node(\"blog_generator\", blog_node)\n",
    "\n",
    "workflow.add_edge(START, \"researcher\")\n",
    "graph = workflow.compile()\n",
    "graph"
   ]
  },
  {
   "cell_type": "code",
   "execution_count": 16,
   "id": "08666a62",
   "metadata": {},
   "outputs": [
    {
     "name": "stdout",
     "output_type": "stream",
     "text": [
      "📚 Using tool: InternalResearchNotes\n",
      "📚 Using tool: InternalResearchNotes\n"
     ]
    }
   ],
   "source": [
    "response=graph.invoke({\"messages\":\"Write a detailed blog on LLaMA2\"})"
   ]
  },
  {
   "cell_type": "code",
   "execution_count": 17,
   "id": "b878d0f7",
   "metadata": {},
   "outputs": [
    {
     "data": {
      "text/plain": [
       "\"FINAL ANSWER:\\n\\n# LLaMA 2: Introduction to Meta's Revolutionary Language Model\\n\\nLLaMA 2 (Large Language Model Meta AI) was introduced by Meta in mid-2023 as the next generation of their foundational language model, following the original LLaMA release. With an emphasis on transparency and openness in AI research, LLaMA 2 promises to enhance natural language processing (NLP) applications while providing robust solutions for a variety of computational challenges. In this blog, we will explore the features, applications, and underlying technology of LLaMA 2, offering insights into how this model is set to influence AI development.\\n\\n## Key Features of LLaMA 2\\n\\n1. **Model Sizes and Architecture**: \\n   LLaMA 2 comes in three different sizes—7 billion, 13 billion, and 70 billion parameters—allowing users to choose a model tailored to their computational and application needs. The model architecture largely retains the original LLaMA structure but has been enhanced with 40% more training data, improving its performance across various tasks.\\n\\n2. **Instruction Tuning**: \\n   The model has been fine-tuned using 20,000 internal support tickets, enabling it to provide more relevant and context-aware responses. This tuning process is vital for applications such as customer service chatbots which require high accuracy in understanding user queries.\\n\\n3. **Integration with Retrieval-Augmented Generation (RAG)**: \\n   LLaMA 2 has an integrated RAG component that enhances its capabilities in question-answering scenarios, using external data sources to support responses. This dynamic retrieval mechanism allows LLaMA 2 to provide accurate answers based on real-time information.\\n\\n4. **Performance Metrics**: \\n   The model boasts an impressive human evaluation win rate of approximately 75%. Feedback from GPT-4 judges indicates strong contextual reasoning skills although it identified some areas for improvement, especially concerning factual accuracy.\\n\\n5. **Optimized Latency**: \\n   Latency has been optimized for deployment, reaching around 300ms on A100 GPUs, making LLaMA 2 suitable for real-time applications.\\n\\n## Safety Protocols\\n\\nSafety is paramount in AI models, and LLaMA 2 comes equipped with several safety mechanisms:\\n\\n- **Toxicity Detection**: A toxicity detection system, known as Detoxify, monitors outputs to prevent harmful or inappropriate language.\\n- **Out-of-Scope Filtering**: Implemented zero-shot classifiers help to filter out irrelevant queries efficiently.\\n- **Red Teaming**: Adversarial prompt testing ensures that the model can handle challenging situations while maintaining the integrity of its responses.\\n\\n## Applications of LLaMA 2\\n\\nLLaMA 2 is being utilized in a multitude of applications, ranging from chatbots to sophisticated AI assistants:\\n\\n### Customer Support and Chatbots\\nWith its instruction-tuned capabilities, LLaMA 2 can effectively address customer inquiries, understand context, and provide tailored solutions, significantly enhancing user experience and operational efficiency.\\n\\n### Content Generation\\nThe model can generate articles, reports, or educational materials, catering to specific audiences while maintaining coherence and relevance, making it an invaluable tool for content creators.\\n\\n### Research and Development\\nEducational institutions and researchers utilize LLaMA 2 to analyze vast amounts of data, derive insights, and solve complex problems that require nuanced understanding and contextual comprehension.\\n\\n## Behind the Scenes: Technologies and Innovations\\n\\nMeta has been at the forefront of various innovations that improve LLaMA 2’s functionality:\\n\\n- **FlashAttention2**: This optimization reduces context processing latency by approximately 50%, making LLaMA 2 much faster and responsive.\\n- **Chain-of-Thought Prompting**: Studies show that this enhanced prompting method outperforms basic answer prompting, particularly in logical reasoning tasks, further solidifying LLaMA 2’s capabilities.\\n- **Tool-Augmented Prompting**: By integrating tools such as LangGraph, Wikipedia, and SQL search, LLaMA 2 enables dynamic retrieval-agent reasoning, allowing users to engage with complex queries in more intelligent ways.\\n\\n## Human Evaluation and Continuous Improvement\\n\\nLLaMA 2 undergoes rigorous human evaluation to assess fluency, helpfulness, and correctness. Internal annotators along with synthetic evaluators, such as GPT-4, contribute to the continuous improvement of the model by providing feedback on its performance across diverse scenarios.\\n\\n## Conclusion\\n\\nLLaMA 2 marks a significant advancement in the development of large language models, offering powerful tools and features that enhance its applicability and performance. With its robust safety protocols, optimized processing, and a commitment to transparency, Meta’s LLaMA 2 is poised to transform how we utilize AI in everyday applications. As AI technology continues to evolve, LLaMA 2 serves as a foundational pillar for future advancements in natural language processing. \\n\\nFor further details, developers and researchers can dive into the extensive [LLaMA 2 documentation](https://llama.com) which provides a wealth of resources and information to get started with this innovative model.\""
      ]
     },
     "execution_count": 17,
     "metadata": {},
     "output_type": "execute_result"
    }
   ],
   "source": [
    "response[\"messages\"][-1].content"
   ]
  },
  {
   "cell_type": "markdown",
   "id": "25b8965d",
   "metadata": {},
   "source": [
    "### Multi Agent Suprvisor With RAG\n",
    "Supervisor is a multi-agent architecture where specialized agents are coordinated by a central supervisor agent. The supervisor agent controls all communication flow and task delegation, making decisions about which agent to invoke based on the current context and task requirements.\n",
    "\n",
    "In this tutorial, you will build a supervisor system with two agents — a research and a math expert. By the end of the tutorial you will:\n",
    "\n",
    "1. Build specialized research and math agents\n",
    "2. Build a supervisor for orchestrating them with the prebuilt langgraph-supervisor\n",
    "3. Build a supervisor \n",
    "4. Implement advanced task delegation\n"
   ]
  },
  {
   "cell_type": "code",
   "execution_count": 18,
   "id": "af44ea36",
   "metadata": {},
   "outputs": [
    {
     "data": {
      "text/plain": [
       "Tool(name='InternalResearchNotes', description='Search internal research notes for experimental results', func=<function make_retriever_tool_from_text.<locals>.tool_func at 0x10f22f060>)"
      ]
     },
     "execution_count": 18,
     "metadata": {},
     "output_type": "execute_result"
    }
   ],
   "source": [
    "internal_tool_1"
   ]
  },
  {
   "cell_type": "code",
   "execution_count": 19,
   "id": "b5b0e699",
   "metadata": {},
   "outputs": [
    {
     "data": {
      "text/plain": [
       "TavilySearch(max_results=3, api_wrapper=TavilySearchAPIWrapper(tavily_api_key=SecretStr('**********'), api_base_url=None))"
      ]
     },
     "execution_count": 19,
     "metadata": {},
     "output_type": "execute_result"
    }
   ],
   "source": [
    "from langchain_tavily import TavilySearch\n",
    "\n",
    "web_search = TavilySearch(max_results=3)\n",
    "web_search"
   ]
  },
  {
   "cell_type": "code",
   "execution_count": 20,
   "id": "90e42417",
   "metadata": {},
   "outputs": [
    {
     "data": {
      "image/png": "[encoded data removed]",
      "text/plain": [
       "<langgraph.graph.state.CompiledStateGraph object at 0x12b24bef0>"
      ]
     },
     "execution_count": 20,
     "metadata": {},
     "output_type": "execute_result"
    }
   ],
   "source": [
    "from langgraph.prebuilt import create_react_agent\n",
    "\n",
    "research_agent=create_react_agent(\n",
    "    model=llm,\n",
    "    tools=[web_search,internal_tool_1],\n",
    "    prompt=(\n",
    "        \"You are a research agent.\\n\\n\"\n",
    "        \"INSTRUCTIONS:\\n\"\n",
    "        \"- Assist ONLY with research-related tasks, DO NOT do any math\\n\"\n",
    "        \"- After you're done with your tasks, respond to the supervisor directly\\n\"\n",
    "        \"- Respond ONLY with the results of your work, do NOT include ANY other text.\"\n",
    "    ),\n",
    "    name=\"research_agent\"\n",
    ")\n",
    "research_agent"
   ]
  },
  {
   "cell_type": "code",
   "execution_count": 22,
   "id": "e8619065",
   "metadata": {},
   "outputs": [
    {
     "data": {
      "image/png": "[encoded data removed]",
      "text/plain": [
       "<langgraph.graph.state.CompiledStateGraph object at 0x12b249a60>"
      ]
     },
     "execution_count": 22,
     "metadata": {},
     "output_type": "execute_result"
    }
   ],
   "source": [
    "def add(a: float, b: float):\n",
    "    \"\"\"Add two numbers.\"\"\"\n",
    "    return a + b\n",
    "\n",
    "\n",
    "def multiply(a: float, b: float):\n",
    "    \"\"\"Multiply two numbers.\"\"\"\n",
    "    return a * b\n",
    "\n",
    "\n",
    "def divide(a: float, b: float):\n",
    "    \"\"\"Divide two numbers.\"\"\"\n",
    "    return a / b\n",
    "\n",
    "\n",
    "math_agent=create_react_agent(\n",
    "    model=llm,\n",
    "    tools=[add,multiply,divide],\n",
    "    prompt=(\n",
    "        \"You are a math agent.\\n\\n\"\n",
    "        \"INSTRUCTIONS:\\n\"\n",
    "        \"- Assist ONLY with math-related tasks\\n\"\n",
    "        \"- After you're done with your tasks, respond to the supervisor directly\\n\"\n",
    "        \"- Respond ONLY with the results of your work, do NOT include ANY other text.\"\n",
    "    ),\n",
    "    name=\"math_agent\"\n",
    "\n",
    ")\n",
    "math_agent"
   ]
  },
  {
   "cell_type": "code",
   "execution_count": null,
   "id": "198cee71",
   "metadata": {},
   "outputs": [
    {
     "data": {
      "image/png": "[encoded data removed]",
      "text/plain": [
       "<langgraph.graph.state.CompiledStateGraph object at 0x12b270470>"
      ]
     },
     "execution_count": 24,
     "metadata": {},
     "output_type": "execute_result"
    }
   ],
   "source": [
    "### create supervisor agent\n",
    "\n",
    "from langgraph_supervisor import create_supervisor\n",
    "supervisor=create_supervisor(\n",
    "    model=llm,\n",
    "    agents=[research_agent,math_agent],\n",
    "    prompt=(\n",
    "         \"You are a supervisor managing two agents:\\n\"\n",
    "        \"- a research agent. Assign research-related tasks to this agent\\n\"\n",
    "        \"- a math agent. Assign math-related tasks to this agent\\n\"\n",
    "        \"Assign work to one agent at a time, do not call agents in parallel.\\n\"\n",
    "        \"Do not do any work yourself.\"\n",
    "\n",
    "    ),\n",
    "    add_handoff_back_messages=True,  # keep context when handing off between agents\n",
    "    output_mode=\"full_history\"\n",
    ").compile()\n",
    "\n",
    "supervisor"
   ]
  },
  {
   "cell_type": "code",
   "execution_count": 25,
   "id": "f530a33e",
   "metadata": {},
   "outputs": [],
   "source": [
    "response=supervisor.invoke({\"messages\":\" list all the challenges of reformer and then tell me what is 5 plus 10\"})"
   ]
  },
  {
   "cell_type": "code",
   "execution_count": 26,
   "id": "db7b8b2d",
   "metadata": {},
   "outputs": [
    {
     "data": {
      "text/plain": [
       "{'messages': [HumanMessage(content=' list all the challenges of reformer and then tell me what is 5 plus 10', additional_kwargs={}, response_metadata={}, id='02b32fe7-14ca-484b-9db0-fd9c823b7d03'),\n",
       "  AIMessage(content='', additional_kwargs={'tool_calls': [{'id': 'call_x8UhfhlNax3nTb56evTHqXOv', 'function': {'arguments': '{}', 'name': 'transfer_to_research_agent'}, 'type': 'function'}], 'refusal': None}, response_metadata={'token_usage': {'completion_tokens': 13, 'prompt_tokens': 137, 'total_tokens': 150, 'completion_tokens_details': {'accepted_prediction_tokens': 0, 'audio_tokens': 0, 'reasoning_tokens': 0, 'rejected_prediction_tokens': 0}, 'prompt_tokens_details': {'audio_tokens': 0, 'cached_tokens': 0}}, 'model_name': 'gpt-4o-mini-2024-07-18', 'system_fingerprint': 'fp_560af6e559', 'id': 'chatcmpl-C823hZPk6IDqQWNgyZQgQ5m4XZNZK', 'service_tier': 'default', 'finish_reason': 'tool_calls', 'logprobs': None}, name='supervisor', id='run--46c566dc-d6d2-4ec9-ba0a-08f438849a0b-0', tool_calls=[{'name': 'transfer_to_research_agent', 'args': {}, 'id': 'call_x8UhfhlNax3nTb56evTHqXOv', 'type': 'tool_call'}], usage_metadata={'input_tokens': 137, 'output_tokens': 13, 'total_tokens': 150, 'input_token_details': {'audio': 0, 'cache_read': 0}, 'output_token_details': {'audio': 0, 'reasoning': 0}}),\n",
       "  ToolMessage(content='Successfully transferred to research_agent', name='transfer_to_research_agent', id='24b1d4bc-d9e0-4907-83ab-1b6187c42c71', tool_call_id='call_x8UhfhlNax3nTb56evTHqXOv'),\n",
       "  AIMessage(content='', additional_kwargs={'tool_calls': [{'id': 'call_xMny7gEgkhKLzj2pVnaEITpX', 'function': {'arguments': '{\"query\":\"challenges of reformers\"}', 'name': 'tavily_search'}, 'type': 'function'}], 'refusal': None}, response_metadata={'token_usage': {'completion_tokens': 20, 'prompt_tokens': 1402, 'total_tokens': 1422, 'completion_tokens_details': {'accepted_prediction_tokens': 0, 'audio_tokens': 0, 'reasoning_tokens': 0, 'rejected_prediction_tokens': 0}, 'prompt_tokens_details': {'audio_tokens': 0, 'cached_tokens': 0}}, 'model_name': 'gpt-4o-mini-2024-07-18', 'system_fingerprint': 'fp_560af6e559', 'id': 'chatcmpl-C823iSyDSUke14Lp69152lg5IUy64', 'service_tier': 'default', 'finish_reason': 'tool_calls', 'logprobs': None}, name='research_agent', id='run--8def2b7d-df0d-4e0d-949e-eeda102c384b-0', tool_calls=[{'name': 'tavily_search', 'args': {'query': 'challenges of reformers'}, 'id': 'call_xMny7gEgkhKLzj2pVnaEITpX', 'type': 'tool_call'}], usage_metadata={'input_tokens': 1402, 'output_tokens': 20, 'total_tokens': 1422, 'input_token_details': {'audio': 0, 'cache_read': 0}, 'output_token_details': {'audio': 0, 'reasoning': 0}}),\n",
       "  ToolMessage(content='{\"query\": \"challenges of reformers\", \"follow_up_questions\": null, \"answer\": null, \"images\": [], \"results\": [{\"url\": \"https://www.exploros.com/summary/How-Did-the-Catholic-Church-Respond-to-the-Challenges-Posed-by-the-Protestant-Reformation\", \"title\": \"How Did the Catholic Church Respond to the Challenges Posed by ...\", \"content\": \"## How Did the Catholic Church Respond to the Challenges Posed by the Protestant Reformation? The Protestant Reformation in Europe in the first half of the 16th century challenged the Roman Catholic Church. Before Martin Luther publicized his “95 Theses,” almost all Europeans belonged to the Catholic Church. Just 20 years later, many Europeans belonged to the Reformed, or Protestant, church. The Catholic Church responded during a period known as the Counter-Reformation. **Reforming the Catholic Church** The Catholic Church accepted some Protestant criticisms as valid. The Church established new organizations as part of the reaction to the Reformation. The Inquisition also executed people it judged to have broken the church’s rules. Source: How Did the Catholic Church Respond to the Challenges Posed by the Protestant Reformation?\", \"score\": 0.4808937, \"raw_content\": null}, {\"url\": \"https://en.wikipedia.org/wiki/Progressive_Era\", \"title\": \"Progressive Era - Wikipedia\", \"content\": \"Reformers expressed concern about slums, poverty, and labor conditions. Multiple overlapping movements pursued social, political, and economic reforms by\", \"score\": 0.34211034, \"raw_content\": null}, {\"url\": \"https://stpaulcenter.com/posts/reformation-era-problems?srsltid=AfmBOoq5gS0EAmQ6Nk-yew_J9yKDoMPZGR42-D06T1eRegsL7zaBK9fS\", \"title\": \"Reformation-Era Problems - St. Paul Center\", \"content\": \"The leaders of the Reformation believed the problems of late medieval Christianity were not moral, but doctrinal. To address them, they turned\", \"score\": 0.3286269, \"raw_content\": null}], \"response_time\": 0.69, \"request_id\": \"35d6d99f-0319-4a46-838e-295c3bed88f9\"}', name='tavily_search', id='b91f7b19-44ea-43ed-947b-eb98447e9486', tool_call_id='call_xMny7gEgkhKLzj2pVnaEITpX'),\n",
       "  AIMessage(content='1. **Opposition from the Established Church**: Reformers often faced resistance and persecution from the dominant religious institutions, which sought to maintain their authority.\\n2. **Social and Political Backlash**: Reform movements were sometimes met with hostility from political leaders who felt threatened by the changes proposed by reformers.\\n3. **Internal Divisions**: Various reform movements often had conflicting goals, leading to fragmentation and lack of unified efforts.\\n4. **Economic Resistance**: Economic interests tied to the status quo may have resisted reforms that threatened their profitability or control.\\n5. **Public Apathy or Hostility**: Many individuals may have been indifferent to reform or actively opposed to it, making it challenging for reformers to gain support.\\n6. **Doctrinal Disputes**: In cases like the Reformation, disagreements over theological issues made it difficult to formulate a coherent set of reforms that could be widely accepted.\\n7. **Cultural Resistance**: Societal norms and values may have resisted changes proposed by reformers, leading to cultural clashes.\\n\\nFor more detailed information, refer to the following sources:\\n- [How Did the Catholic Church Respond to the Challenges Posed by the Protestant Reformation?](https://www.exploros.com/summary/How-Did-the-Catholic-Church-Respond-to-the-Challenges-Posed-by-the-Protestant-Reformation)\\n- [Progressive Era - Wikipedia](https://en.wikipedia.org/wiki/Progressive_Era)\\n- [Reformation-Era Problems - St. Paul Center](https://stpaulcenter.com/posts/reformation-era-problems?srsltid=AfmBOoq5gS0EAmQ6Nk-yew_J9yKDoMPZGR42-D06T1eRegsL7zaBK9fS)', additional_kwargs={'refusal': None}, response_metadata={'token_usage': {'completion_tokens': 370, 'prompt_tokens': 1938, 'total_tokens': 2308, 'completion_tokens_details': {'accepted_prediction_tokens': 0, 'audio_tokens': 0, 'reasoning_tokens': 0, 'rejected_prediction_tokens': 0}, 'prompt_tokens_details': {'audio_tokens': 0, 'cached_tokens': 1280}}, 'model_name': 'gpt-4o-mini-2024-07-18', 'system_fingerprint': 'fp_560af6e559', 'id': 'chatcmpl-C823lw2vn7u9734dJmlB8mYr0Xwf8', 'service_tier': 'default', 'finish_reason': 'stop', 'logprobs': None}, name='research_agent', id='run--82ef7d3c-3b2c-4496-95e4-ccc4fdb51b39-0', usage_metadata={'input_tokens': 1938, 'output_tokens': 370, 'total_tokens': 2308, 'input_token_details': {'audio': 0, 'cache_read': 1280}, 'output_token_details': {'audio': 0, 'reasoning': 0}}),\n",
       "  AIMessage(content='Transferring back to supervisor', additional_kwargs={}, response_metadata={'__is_handoff_back': True}, name='research_agent', id='07398228-b798-4357-be86-8f1efc2c3e59', tool_calls=[{'name': 'transfer_back_to_supervisor', 'args': {}, 'id': '75893a12-fe78-47a7-b4bb-e83c76438d45', 'type': 'tool_call'}]),\n",
       "  ToolMessage(content='Successfully transferred back to supervisor', name='transfer_back_to_supervisor', id='f7f8187d-f4e0-4242-a653-ad85caa88020', tool_call_id='75893a12-fe78-47a7-b4bb-e83c76438d45'),\n",
       "  AIMessage(content='', additional_kwargs={'tool_calls': [{'id': 'call_9K3ywDhsh3k5VdHRKYzbbg0f', 'function': {'arguments': '{}', 'name': 'transfer_to_math_agent'}, 'type': 'function'}], 'refusal': None}, response_metadata={'token_usage': {'completion_tokens': 12, 'prompt_tokens': 1126, 'total_tokens': 1138, 'completion_tokens_details': {'accepted_prediction_tokens': 0, 'audio_tokens': 0, 'reasoning_tokens': 0, 'rejected_prediction_tokens': 0}, 'prompt_tokens_details': {'audio_tokens': 0, 'cached_tokens': 0}}, 'model_name': 'gpt-4o-mini-2024-07-18', 'system_fingerprint': 'fp_560af6e559', 'id': 'chatcmpl-C823skp4lmDW1Vxx6AgD4qhbRtIhG', 'service_tier': 'default', 'finish_reason': 'tool_calls', 'logprobs': None}, name='supervisor', id='run--d0ff4a15-bf0b-4c6a-9578-b826f8e28b05-0', tool_calls=[{'name': 'transfer_to_math_agent', 'args': {}, 'id': 'call_9K3ywDhsh3k5VdHRKYzbbg0f', 'type': 'tool_call'}], usage_metadata={'input_tokens': 1126, 'output_tokens': 12, 'total_tokens': 1138, 'input_token_details': {'audio': 0, 'cache_read': 0}, 'output_token_details': {'audio': 0, 'reasoning': 0}}),\n",
       "  ToolMessage(content='Successfully transferred to math_agent', name='transfer_to_math_agent', id='84ee04a1-f890-4844-a13a-88efcf7a9124', tool_call_id='call_9K3ywDhsh3k5VdHRKYzbbg0f'),\n",
       "  AIMessage(content='', additional_kwargs={'tool_calls': [{'id': 'call_9WxaoCjZe7CB3MVXJIdQNohB', 'function': {'arguments': '{\"a\":5,\"b\":10}', 'name': 'add'}, 'type': 'function'}], 'refusal': None}, response_metadata={'token_usage': {'completion_tokens': 17, 'prompt_tokens': 1171, 'total_tokens': 1188, 'completion_tokens_details': {'accepted_prediction_tokens': 0, 'audio_tokens': 0, 'reasoning_tokens': 0, 'rejected_prediction_tokens': 0}, 'prompt_tokens_details': {'audio_tokens': 0, 'cached_tokens': 0}}, 'model_name': 'gpt-4o-mini-2024-07-18', 'system_fingerprint': 'fp_51db84afab', 'id': 'chatcmpl-C823tKOUxp5cBC4mU4haHTGQpExJc', 'service_tier': 'default', 'finish_reason': 'tool_calls', 'logprobs': None}, name='math_agent', id='run--85f845fc-e7dd-48d9-91a5-40cda3d897fe-0', tool_calls=[{'name': 'add', 'args': {'a': 5, 'b': 10}, 'id': 'call_9WxaoCjZe7CB3MVXJIdQNohB', 'type': 'tool_call'}], usage_metadata={'input_tokens': 1171, 'output_tokens': 17, 'total_tokens': 1188, 'input_token_details': {'audio': 0, 'cache_read': 0}, 'output_token_details': {'audio': 0, 'reasoning': 0}}),\n",
       "  ToolMessage(content='15.0', name='add', id='f616bf85-fcb7-4c62-8621-55ee5f272071', tool_call_id='call_9WxaoCjZe7CB3MVXJIdQNohB'),\n",
       "  AIMessage(content='15', additional_kwargs={'refusal': None}, response_metadata={'token_usage': {'completion_tokens': 2, 'prompt_tokens': 1201, 'total_tokens': 1203, 'completion_tokens_details': {'accepted_prediction_tokens': 0, 'audio_tokens': 0, 'reasoning_tokens': 0, 'rejected_prediction_tokens': 0}, 'prompt_tokens_details': {'audio_tokens': 0, 'cached_tokens': 1152}}, 'model_name': 'gpt-4o-mini-2024-07-18', 'system_fingerprint': 'fp_51db84afab', 'id': 'chatcmpl-C823uBdui6RI8aDWQ2h8Zo9RN5d34', 'service_tier': 'default', 'finish_reason': 'stop', 'logprobs': None}, name='math_agent', id='run--738ee329-906f-473f-8845-1c0b7a39c3f0-0', usage_metadata={'input_tokens': 1201, 'output_tokens': 2, 'total_tokens': 1203, 'input_token_details': {'audio': 0, 'cache_read': 1152}, 'output_token_details': {'audio': 0, 'reasoning': 0}}),\n",
       "  AIMessage(content='Transferring back to supervisor', additional_kwargs={}, response_metadata={'__is_handoff_back': True}, name='math_agent', id='81c24d74-64c4-425f-9172-d001c7b646ae', tool_calls=[{'name': 'transfer_back_to_supervisor', 'args': {}, 'id': '68dbb6f7-1d0d-448c-a8bd-8acdabb8f894', 'type': 'tool_call'}]),\n",
       "  ToolMessage(content='Successfully transferred back to supervisor', name='transfer_back_to_supervisor', id='d2869b0a-3d1e-4a49-acfb-290b00b9ebce', tool_call_id='68dbb6f7-1d0d-448c-a8bd-8acdabb8f894'),\n",
       "  AIMessage(content='The challenges of reformers include:\\n\\n1. Opposition from the established church.\\n2. Social and political backlash.\\n3. Internal divisions among reform movements.\\n4. Economic resistance from vested interests.\\n5. Public apathy or hostility towards reforms.\\n6. Doctrinal disputes causing fragmentation.\\n7. Cultural resistance to change.\\n\\nFor more detailed information, you can refer to the sources provided earlier.\\n\\nAdditionally, the result of 5 plus 10 is 15.', additional_kwargs={'refusal': None}, response_metadata={'token_usage': {'completion_tokens': 93, 'prompt_tokens': 1239, 'total_tokens': 1332, 'completion_tokens_details': {'accepted_prediction_tokens': 0, 'audio_tokens': 0, 'reasoning_tokens': 0, 'rejected_prediction_tokens': 0}, 'prompt_tokens_details': {'audio_tokens': 0, 'cached_tokens': 1024}}, 'model_name': 'gpt-4o-mini-2024-07-18', 'system_fingerprint': 'fp_560af6e559', 'id': 'chatcmpl-C823ujsByIzPOSS7aj7fAM9CgFZFs', 'service_tier': 'default', 'finish_reason': 'stop', 'logprobs': None}, name='supervisor', id='run--3123ae0c-66b2-4fe0-8cc6-23feb464b968-0', usage_metadata={'input_tokens': 1239, 'output_tokens': 93, 'total_tokens': 1332, 'input_token_details': {'audio': 0, 'cache_read': 1024}, 'output_token_details': {'audio': 0, 'reasoning': 0}})]}"
      ]
     },
     "execution_count": 26,
     "metadata": {},
     "output_type": "execute_result"
    }
   ],
   "source": [
    "response"
   ]
  },
  {
   "cell_type": "code",
   "execution_count": 28,
   "id": "3de08dc8",
   "metadata": {},
   "outputs": [
    {
     "data": {
      "text/plain": [
       "'The challenges of reformers include:\\n\\n1. Opposition from the established church.\\n2. Social and political backlash.\\n3. Internal divisions among reform movements.\\n4. Economic resistance from vested interests.\\n5. Public apathy or hostility towards reforms.\\n6. Doctrinal disputes causing fragmentation.\\n7. Cultural resistance to change.\\n\\nFor more detailed information, you can refer to the sources provided earlier.\\n\\nAdditionally, the result of 5 plus 10 is 15.'"
      ]
     },
     "execution_count": 28,
     "metadata": {},
     "output_type": "execute_result"
    }
   ],
   "source": [
    "response[\"messages\"][-1].content"
   ]
  },
  {
   "cell_type": "markdown",
   "id": "d3d953f9",
   "metadata": {},
   "source": [
    "### Hierarchical Agent Teams With RAG\n",
    "In our previous example (Agent Supervisor), we introduced the concept of a single supervisor node to route work between different worker nodes.\n",
    "\n",
    "But what if the job for a single worker becomes too complex? What if the number of workers becomes too large?\n",
    "\n",
    "For some applications, the system may be more effective if work is distributed hierarchically.\n",
    "\n",
    "You can do this by composing different subgraphs and creating a top-level supervisor, along with mid-level supervisors."
   ]
  },
  {
   "cell_type": "code",
   "execution_count": 29,
   "id": "acb5b72c",
   "metadata": {},
   "outputs": [
    {
     "name": "stderr",
     "output_type": "stream",
     "text": [
      "USER_AGENT environment variable not set, consider setting it to identify your requests.\n"
     ]
    }
   ],
   "source": [
    "from typing import Annotated, List\n",
    "\n",
    "from langchain_community.document_loaders import WebBaseLoader\n",
    "from langchain_tavily import TavilySearch\n",
    "from langchain_core.tools import tool\n",
    "\n",
    "tavily_tool = TavilySearch(max_results=5)"
   ]
  },
  {
   "cell_type": "code",
   "execution_count": 30,
   "id": "d2a3919e",
   "metadata": {},
   "outputs": [],
   "source": [
    "@tool\n",
    "def scrape_webpages(urls:List[str])->str:\n",
    "    \"\"\"Use requests and bs4 to scrape the provided web pages for detailed information.\"\"\"\n",
    "    loader = WebBaseLoader(urls)\n",
    "    docs = loader.load()\n",
    "    return \"\\n\\n\".join(\n",
    "        [\n",
    "            f'<Document name=\"{doc.metadata.get(\"title\", \"\")}\">\\n{doc.page_content}\\n</Document>'\n",
    "            for doc in docs\n",
    "        ]\n",
    "    )\n"
   ]
  },
  {
   "cell_type": "code",
   "execution_count": 71,
   "id": "149d4fae",
   "metadata": {},
   "outputs": [],
   "source": [
    "from pathlib import Path\n",
    "from tempfile import TemporaryDirectory\n",
    "from typing import Dict, Optional\n",
    "\n",
    "from langchain_experimental.utilities import PythonREPL\n",
    "from typing_extensions import TypedDict\n",
    "\n",
    "WORKING_DIRECTORY = Path(os.getcwd()+\"/ContentGeneratedFiles\")\n",
    "\n",
    "@tool\n",
    "def create_outline(\n",
    "    points: Annotated[List[str], \"List of main points or sections.\"],\n",
    "    file_name: Annotated[str, \"File path to save the outline.\"],\n",
    ") -> Annotated[str, \"Path of the saved outline file.\"]:\n",
    "    \"\"\"Create and save an outline.\"\"\"\n",
    "    with (WORKING_DIRECTORY / file_name).open(\"w\") as file:\n",
    "        for i, point in enumerate(points):\n",
    "            file.write(f\"{i + 1}. {point}\\n\")\n",
    "    return f\"Outline saved to {file_name}\"\n",
    "\n",
    "@tool\n",
    "def write_document(\n",
    "    content: Annotated[str, \"Text content to be written into the document.\"],\n",
    "    file_name: Annotated[str, \"File path to save the document.\"],\n",
    ") -> Annotated[str, \"Path of the saved document file.\"]:\n",
    "    \"\"\"Create and save a text document.\"\"\"\n",
    "    with (WORKING_DIRECTORY / file_name).open(\"w\") as file:\n",
    "        file.write(content)\n",
    "    return f\"Document saved to {file_name}\"\n",
    "\n",
    "@tool\n",
    "def edit_document(\n",
    "    file_name: Annotated[str, \"Path of the document to be edited.\"],\n",
    "    inserts: Annotated[\n",
    "        Dict[int, str],\n",
    "        \"Dictionary where key is the line number (1-indexed) and value is the text to be inserted at that line.\",\n",
    "    ],\n",
    ") -> Annotated[str, \"Path of the edited document file.\"]:\n",
    "    \"\"\"Edit a document by inserting text at specific line numbers.\"\"\"\n",
    "\n",
    "    with (WORKING_DIRECTORY / file_name).open(\"r\") as file:\n",
    "        lines = file.readlines()\n",
    "\n",
    "    sorted_inserts = sorted(inserts.items())\n",
    "\n",
    "    for line_number, text in sorted_inserts:\n",
    "        if 1 <= line_number <= len(lines) + 1:\n",
    "            lines.insert(line_number - 1, text + \"\\n\")\n",
    "        else:\n",
    "            return f\"Error: Line number {line_number} is out of range.\"\n",
    "\n",
    "    with (WORKING_DIRECTORY / file_name).open(\"w\") as file:\n",
    "        file.writelines(lines)\n",
    "\n",
    "    return f\"Document edited and saved to {file_name}\""
   ]
  },
  {
   "cell_type": "code",
   "execution_count": 72,
   "id": "ee39e731",
   "metadata": {},
   "outputs": [
    {
     "data": {
      "text/plain": [
       "PosixPath('/Users/saonpaul/Code/GitHub Repo/RAG_Practice/8-AgenticRAG/ContentGeneratedFiles')"
      ]
     },
     "execution_count": 72,
     "metadata": {},
     "output_type": "execute_result"
    }
   ],
   "source": [
    "WORKING_DIRECTORY"
   ]
  },
  {
   "cell_type": "code",
   "execution_count": 53,
   "id": "6ef30926",
   "metadata": {},
   "outputs": [],
   "source": [
    "# Warning: This executes code locally, which can be unsafe when not sandboxed\n",
    "\n",
    "repl = PythonREPL()\n",
    "\n",
    "\n",
    "@tool\n",
    "def python_repl_tool(\n",
    "    code: Annotated[str, \"The python code to execute to generate your chart.\"],\n",
    "):\n",
    "    \"\"\"Use this to execute python code. If you want to see the output of a value,\n",
    "    you should print it out with `print(...)`. This is visible to the user.\"\"\"\n",
    "    try:\n",
    "        result = repl.run(code)\n",
    "    except BaseException as e:\n",
    "        return f\"Failed to execute. Error: {repr(e)}\"\n",
    "    return f\"Successfully executed:\\n```python\\n{code}\\n```\\nStdout: {result}\""
   ]
  },
  {
   "cell_type": "code",
   "execution_count": 54,
   "id": "17860413",
   "metadata": {},
   "outputs": [],
   "source": [
    "from typing import List, Optional, Literal\n",
    "from langchain_core.language_models.chat_models import BaseChatModel\n",
    "\n",
    "from langgraph.graph import StateGraph, MessagesState, START, END\n",
    "from langgraph.types import Command\n",
    "from langchain_core.messages import HumanMessage, trim_messages\n",
    "\n",
    "\n",
    "class State(MessagesState):\n",
    "    next: str"
   ]
  },
  {
   "cell_type": "code",
   "execution_count": 55,
   "id": "eae8537f",
   "metadata": {},
   "outputs": [],
   "source": [
    "def make_supervisor_node(llm: BaseChatModel, members: list[str]) -> str:\n",
    "    options = [\"FINISH\"] + members\n",
    "    system_prompt = (\n",
    "        \"You are a supervisor tasked with managing a conversation between the\"\n",
    "        f\" following workers: {members}. Given the following user request,\"\n",
    "        \" respond with the worker to act next. Each worker will perform a\"\n",
    "        \" task and respond with their results and status. When finished,\"\n",
    "        \" respond with FINISH.\"\n",
    "    )\n",
    "\n",
    "    class Router(TypedDict):\n",
    "        \"\"\"Worker to route to next. If no workers needed, route to FINISH.\"\"\"\n",
    "\n",
    "        next: Literal[*options]\n",
    "\n",
    "    def supervisor_node(state: State) -> Command[Literal[*members, \"__end__\"]]:\n",
    "        \"\"\"An LLM-based router.\"\"\"\n",
    "        messages = [\n",
    "            {\"role\": \"system\", \"content\": system_prompt},\n",
    "        ] + state[\"messages\"]\n",
    "        response = llm.with_structured_output(Router).invoke(messages)\n",
    "        goto = response[\"next\"]\n",
    "        if goto == \"FINISH\":\n",
    "            goto = END\n",
    "\n",
    "        return Command(goto=goto, update={\"next\": goto})\n",
    "\n",
    "    return supervisor_node"
   ]
  },
  {
   "cell_type": "code",
   "execution_count": 56,
   "id": "eff44a0e",
   "metadata": {},
   "outputs": [
    {
     "data": {
      "text/plain": [
       "Tool(name='InternalResearchNotes', description='Search internal research notes for experimental results', func=<function make_retriever_tool_from_text.<locals>.tool_func at 0x10f22f060>)"
      ]
     },
     "execution_count": 56,
     "metadata": {},
     "output_type": "execute_result"
    }
   ],
   "source": [
    "internal_tool_1"
   ]
  },
  {
   "cell_type": "code",
   "execution_count": 57,
   "id": "729557d8",
   "metadata": {},
   "outputs": [
    {
     "data": {
      "image/png": "[encoded data removed]",
      "text/plain": [
       "<langgraph.graph.state.CompiledStateGraph object at 0x12b3756a0>"
      ]
     },
     "execution_count": 57,
     "metadata": {},
     "output_type": "execute_result"
    }
   ],
   "source": [
    "from langchain_core.messages import HumanMessage\n",
    "from langchain_openai import ChatOpenAI\n",
    "from langgraph.prebuilt import create_react_agent\n",
    "\n",
    "\n",
    "\n",
    "def search_node(state: State) -> Command[Literal[\"supervisor\"]]:\n",
    "    result = search_agent.invoke(state)\n",
    "    return Command(\n",
    "        update={\n",
    "            \"messages\": [\n",
    "                HumanMessage(content=result[\"messages\"][-1].content, name=\"search\")\n",
    "            ]\n",
    "        },\n",
    "        # We want our workers to ALWAYS \"report back\" to the supervisor when done\n",
    "        goto=\"supervisor\",\n",
    "    )\n",
    "\n",
    "\n",
    "search_agent = create_react_agent(llm, tools=[tavily_tool,internal_tool_1])\n",
    "search_agent\n",
    "\n"
   ]
  },
  {
   "cell_type": "code",
   "execution_count": 58,
   "id": "6d6256cf",
   "metadata": {},
   "outputs": [
    {
     "data": {
      "image/png": "[encoded data removed]",
      "text/plain": [
       "<langgraph.graph.state.CompiledStateGraph object at 0x138e2e4e0>"
      ]
     },
     "execution_count": 58,
     "metadata": {},
     "output_type": "execute_result"
    }
   ],
   "source": [
    "\n",
    "\n",
    "def web_scraper_node(state: State) -> Command[Literal[\"supervisor\"]]:\n",
    "    result = web_scraper_agent.invoke(state)\n",
    "    return Command(\n",
    "        update={\n",
    "            \"messages\": [\n",
    "                HumanMessage(content=result[\"messages\"][-1].content, name=\"web_scraper\")\n",
    "            ]\n",
    "        },\n",
    "        # We want our workers to ALWAYS \"report back\" to the supervisor when done\n",
    "        goto=\"supervisor\",\n",
    "    )\n",
    "\n",
    "### sub agent\n",
    "web_scraper_agent = create_react_agent(llm, tools=[scrape_webpages])\n",
    "web_scraper_agent"
   ]
  },
  {
   "cell_type": "code",
   "execution_count": 59,
   "id": "91d88c3e",
   "metadata": {},
   "outputs": [
    {
     "data": {
      "text/plain": [
       "<function __main__.make_supervisor_node.<locals>.supervisor_node(state: __main__.State) -> langgraph.types.Command[typing.Literal['search', 'web_scraper', '__end__']]>"
      ]
     },
     "execution_count": 59,
     "metadata": {},
     "output_type": "execute_result"
    }
   ],
   "source": [
    "research_supervisor_node = make_supervisor_node(llm, [\"search\", \"web_scraper\"])\n",
    "research_supervisor_node"
   ]
  },
  {
   "cell_type": "code",
   "execution_count": 60,
   "id": "da0b9a92",
   "metadata": {},
   "outputs": [
    {
     "data": {
      "image/png": "[encoded data removed]",
      "text/plain": [
       "<langgraph.graph.state.CompiledStateGraph object at 0x138e12690>"
      ]
     },
     "execution_count": 60,
     "metadata": {},
     "output_type": "execute_result"
    }
   ],
   "source": [
    "research_builder = StateGraph(State)\n",
    "research_builder.add_node(\"supervisor\", research_supervisor_node)\n",
    "research_builder.add_node(\"search\", search_node)\n",
    "research_builder.add_node(\"web_scraper\", web_scraper_node)\n",
    "\n",
    "research_builder.add_edge(START, \"supervisor\")\n",
    "research_graph = research_builder.compile()\n",
    "research_graph"
   ]
  },
  {
   "cell_type": "code",
   "execution_count": 61,
   "id": "2a4356ac",
   "metadata": {},
   "outputs": [],
   "source": [
    "@tool\n",
    "def read_document(\n",
    "    file_name: Annotated[str, \"File path to read the document from.\"],\n",
    "    start: Annotated[Optional[int], \"The start line. Default is 0\"] = None,\n",
    "    end: Annotated[Optional[int], \"The end line. Default is None\"] = None,\n",
    ") -> str:\n",
    "    \"\"\"Read the specified document.\"\"\"\n",
    "    with (WORKING_DIRECTORY / file_name).open(\"r\") as file:\n",
    "        lines = file.readlines()\n",
    "    if start is None:\n",
    "        start = 0\n",
    "    return \"\\n\".join(lines[start:end])"
   ]
  },
  {
   "cell_type": "code",
   "execution_count": 62,
   "id": "8ca354a5",
   "metadata": {},
   "outputs": [
    {
     "data": {
      "image/png": "[encoded data removed]",
      "text/plain": [
       "<langgraph.graph.state.CompiledStateGraph object at 0x12b3772f0>"
      ]
     },
     "execution_count": 62,
     "metadata": {},
     "output_type": "execute_result"
    }
   ],
   "source": [
    "\n",
    "\n",
    "def doc_writing_node(state: State) -> Command[Literal[\"supervisor\"]]:\n",
    "    result = doc_writer_agent.invoke(state)\n",
    "    return Command(\n",
    "        update={\n",
    "            \"messages\": [\n",
    "                HumanMessage(content=result[\"messages\"][-1].content, name=\"doc_writer\")\n",
    "            ]\n",
    "        },\n",
    "        # We want our workers to ALWAYS \"report back\" to the supervisor when done\n",
    "        goto=\"supervisor\",\n",
    "    )\n",
    "\n",
    "doc_writer_agent = create_react_agent(\n",
    "    llm,\n",
    "    tools=[write_document, edit_document, read_document],\n",
    "    prompt=(\n",
    "        \"You can read, write and edit documents based on note-taker's outlines. \"\n",
    "        \"Don't ask follow-up questions.\"\n",
    "    ),\n",
    ")\n",
    "\n",
    "doc_writer_agent\n",
    "\n"
   ]
  },
  {
   "cell_type": "code",
   "execution_count": 63,
   "id": "0bae1c46",
   "metadata": {},
   "outputs": [
    {
     "data": {
      "image/png": "[encoded data removed]",
      "text/plain": [
       "<langgraph.graph.state.CompiledStateGraph object at 0x138e2c080>"
      ]
     },
     "execution_count": 63,
     "metadata": {},
     "output_type": "execute_result"
    }
   ],
   "source": [
    "\n",
    "\n",
    "def note_taking_node(state: State) -> Command[Literal[\"supervisor\"]]:\n",
    "    result = note_taking_agent.invoke(state)\n",
    "    return Command(\n",
    "        update={\n",
    "            \"messages\": [\n",
    "                HumanMessage(content=result[\"messages\"][-1].content, name=\"note_taker\")\n",
    "            ]\n",
    "        },\n",
    "        # We want our workers to ALWAYS \"report back\" to the supervisor when done\n",
    "        goto=\"supervisor\",\n",
    "    )\n",
    "\n",
    "\n",
    "note_taking_agent = create_react_agent(\n",
    "    llm,\n",
    "    tools=[create_outline, read_document],\n",
    "    prompt=(\n",
    "        \"You can read documents and create outlines for the document writer. \"\n",
    "        \"Don't ask follow-up questions.\"\n",
    "    ),\n",
    ")\n",
    "note_taking_agent"
   ]
  },
  {
   "cell_type": "code",
   "execution_count": 64,
   "id": "4745f307",
   "metadata": {},
   "outputs": [
    {
     "data": {
      "image/png": "[encoded data removed]",
      "text/plain": [
       "<langgraph.graph.state.CompiledStateGraph object at 0x138e2fa40>"
      ]
     },
     "execution_count": 64,
     "metadata": {},
     "output_type": "execute_result"
    }
   ],
   "source": [
    "\n",
    "\n",
    "\n",
    "def chart_generating_node(state: State) -> Command[Literal[\"supervisor\"]]:\n",
    "    result = chart_generating_agent.invoke(state)\n",
    "    return Command(\n",
    "        update={\n",
    "            \"messages\": [\n",
    "                HumanMessage(\n",
    "                    content=result[\"messages\"][-1].content, name=\"chart_generator\"\n",
    "                )\n",
    "            ]\n",
    "        },\n",
    "        # We want our workers to ALWAYS \"report back\" to the supervisor when done\n",
    "        goto=\"supervisor\",\n",
    "    )\n",
    "\n",
    "\n",
    "chart_generating_agent = create_react_agent(\n",
    "    llm, tools=[read_document, python_repl_tool]\n",
    ")\n",
    "chart_generating_agent"
   ]
  },
  {
   "cell_type": "code",
   "execution_count": 65,
   "id": "e2c85b27",
   "metadata": {},
   "outputs": [
    {
     "data": {
      "image/png": "[encoded data removed]",
      "text/plain": [
       "<langgraph.graph.state.CompiledStateGraph object at 0x138e80230>"
      ]
     },
     "execution_count": 65,
     "metadata": {},
     "output_type": "execute_result"
    }
   ],
   "source": [
    "doc_writing_supervisor_node = make_supervisor_node(\n",
    "    llm, [\"doc_writer\", \"note_taker\", \"chart_generator\"])\n",
    "\n",
    "# Create the graph here\n",
    "paper_writing_builder = StateGraph(State)\n",
    "paper_writing_builder.add_node(\"supervisor\", doc_writing_supervisor_node)\n",
    "paper_writing_builder.add_node(\"doc_writer\", doc_writing_node)\n",
    "paper_writing_builder.add_node(\"note_taker\", note_taking_node)\n",
    "paper_writing_builder.add_node(\"chart_generator\", chart_generating_node)\n",
    "\n",
    "paper_writing_builder.add_edge(START, \"supervisor\")\n",
    "paper_writing_graph = paper_writing_builder.compile()\n",
    "paper_writing_graph"
   ]
  },
  {
   "cell_type": "code",
   "execution_count": 66,
   "id": "f9b2bd7d",
   "metadata": {},
   "outputs": [
    {
     "data": {
      "text/plain": [
       "<function __main__.make_supervisor_node.<locals>.supervisor_node(state: __main__.State) -> langgraph.types.Command[typing.Literal['research_team', 'writing_team', '__end__']]>"
      ]
     },
     "execution_count": 66,
     "metadata": {},
     "output_type": "execute_result"
    }
   ],
   "source": [
    "from langchain_core.messages import BaseMessage\n",
    "teams_supervisor_node = make_supervisor_node(llm, [\"research_team\", \"writing_team\"])\n",
    "teams_supervisor_node"
   ]
  },
  {
   "cell_type": "code",
   "execution_count": 67,
   "id": "e2ac4ee3",
   "metadata": {},
   "outputs": [
    {
     "data": {
      "image/png": "[encoded data removed]",
      "text/plain": [
       "<langgraph.graph.state.CompiledStateGraph object at 0x138e82120>"
      ]
     },
     "execution_count": 67,
     "metadata": {},
     "output_type": "execute_result"
    }
   ],
   "source": [
    "def call_research_team(state: State) -> Command[Literal[\"supervisor\"]]:\n",
    "    response = research_graph.invoke({\"messages\": state[\"messages\"][-1]})\n",
    "    return Command(\n",
    "        update={\n",
    "            \"messages\": [\n",
    "                HumanMessage(\n",
    "                    content=response[\"messages\"][-1].content, name=\"research_team\"\n",
    "                )\n",
    "            ]\n",
    "        },\n",
    "        goto=\"supervisor\",\n",
    "    )\n",
    "\n",
    "\n",
    "def call_paper_writing_team(state: State) -> Command[Literal[\"supervisor\"]]:\n",
    "    response = paper_writing_graph.invoke({\"messages\": state[\"messages\"][-1]})\n",
    "    return Command(\n",
    "        update={\n",
    "            \"messages\": [\n",
    "                HumanMessage(\n",
    "                    content=response[\"messages\"][-1].content, name=\"writing_team\"\n",
    "                )\n",
    "            ]\n",
    "        },\n",
    "        goto=\"supervisor\",\n",
    "    )\n",
    "\n",
    "\n",
    "# Define the graph.\n",
    "super_builder = StateGraph(State)\n",
    "super_builder.add_node(\"supervisor\", teams_supervisor_node)\n",
    "super_builder.add_node(\"research_team\", call_research_team)\n",
    "super_builder.add_node(\"writing_team\", call_paper_writing_team)\n",
    "\n",
    "super_builder.add_edge(START, \"supervisor\")\n",
    "super_graph = super_builder.compile()\n",
    "super_graph"
   ]
  },
  {
   "cell_type": "code",
   "execution_count": 68,
   "id": "3cf659d3",
   "metadata": {},
   "outputs": [],
   "source": [
    "response=super_graph.invoke(\n",
    "    {\n",
    "        \"messages\": [\n",
    "            (\"user\", \"Write about LLaMA2\")\n",
    "        ],\n",
    "    })"
   ]
  },
  {
   "cell_type": "code",
   "execution_count": 69,
   "id": "3788d59b",
   "metadata": {},
   "outputs": [
    {
     "data": {
      "text/plain": [
       "{'messages': [HumanMessage(content='Write about LLaMA2', additional_kwargs={}, response_metadata={}, id='ba08dd02-a517-4167-90a7-e9dd4468644b'),\n",
       "  HumanMessage(content='LLaMA2 (Large Language Model Meta AI 2) represents a major advancement in natural language processing and was released by Meta AI in July 2023. It is designed to be accessible for both research and commercial applications, a significant contrast to its predecessor, LLaMA, which was strictly non-commercial.\\n\\n### Key Features of LLaMA2:\\n\\n1. **Model Variants**: LLaMA2 encompasses a range of models with parameters totaling 7 billion, 13 billion, and 70 billion. These variants cater to diverse NLP tasks, including text generation, summarization, and code generation.\\n\\n2. **Extensive Training Data**: With training based on approximately 2 trillion tokens, the models were constructed using a carefully curated dataset that excludes personal data. This focus on high-quality information enhances both safety and performance.\\n\\n3. **Transformer Architecture**: Continuing from its predecessors, LLaMA2 leverages a transformer-based architecture optimized for autoregressive tasks, where the model predicts subsequent words based on the context of preceding text.\\n\\n4. **Chat Model Fine-Tuning**: Beyond the base model, LLaMA2 features specialized \"chat\" models fine-tuned specifically for conversational applications. These have been trained on a significant dataset of 27,000 human-generated dialogues, enabling more coherent and contextually aware conversations.\\n\\n5. **Commercial Use and Open Access**: The shift to an open-access model for LLaMA2 allows developers to exploit its capabilities without the constraints of commercial licenses. This openness is anticipated to spur innovation and expansion in the AI domain.\\n\\n6. **Integration Options**: LLaMA2\\'s architecture facilitates easy integration with popular cloud platforms like Oracle Cloud and Microsoft Azure, streamlining the development of generative AI applications without extensive infrastructure management.\\n\\n7. **Community Growth**: By providing open access to LLaMA2, Meta encourages a collaborative environment where developers can contribute to further enhancements and specialized adaptations of the model, fostering a robust AI ecosystem.\\n\\n### Conclusion\\n\\nLLaMA2 marks a pivotal moment in AI and NLP development by democratizing access to cutting-edge models. Its introduction promises to inspire innovation across various industries while enhancing the capabilities of developers and researchers working with natural language technologies. The availability of LLaMA2 is expected to drive improvements in AI application development, making it a valuable resource for businesses and individuals alike.', additional_kwargs={}, response_metadata={}, name='research_team', id='b253070c-ff77-4a25-90f1-b67df0ca8e8b'),\n",
       "  HumanMessage(content='### LLaMA2 Research Summary\\n\\nLLaMA2 (Large Language Model Meta AI 2) represents a major advancement in natural language processing and was released by Meta AI in July 2023. It is designed to be accessible for both research and commercial applications, a significant contrast to its predecessor, LLaMA, which was strictly non-commercial.\\n\\n#### Key Features of LLaMA2:\\n\\n1. **Model Variants**: LLaMA2 encompasses a range of models with parameters totaling 7 billion, 13 billion, and 70 billion. These variants cater to diverse NLP tasks, including text generation, summarization, and code generation.\\n\\n2. **Extensive Training Data**: With training based on approximately 2 trillion tokens, the models were constructed using a carefully curated dataset that excludes personal data. This focus on high-quality information enhances both safety and performance.\\n\\n3. **Transformer Architecture**: Continuing from its predecessors, LLaMA2 leverages a transformer-based architecture optimized for autoregressive tasks, where the model predicts subsequent words based on the context of preceding text.\\n\\n4. **Chat Model Fine-Tuning**: Beyond the base model, LLaMA2 features specialized \"chat\" models fine-tuned specifically for conversational applications. These have been trained on a significant dataset of 27,000 human-generated dialogues, enabling more coherent and contextually aware conversations.\\n\\n5. **Commercial Use and Open Access**: The shift to an open-access model for LLaMA2 allows developers to exploit its capabilities without the constraints of commercial licenses. This openness is anticipated to spur innovation and expansion in the AI domain.\\n\\n6. **Integration Options**: LLaMA2\\'s architecture facilitates easy integration with popular cloud platforms like Oracle Cloud and Microsoft Azure, streamlining the development of generative AI applications without extensive infrastructure management.\\n\\n7. **Community Growth**: By providing open access to LLaMA2, Meta encourages a collaborative environment where developers can contribute to further enhancements and specialized adaptations of the model, fostering a robust AI ecosystem.\\n\\n#### Conclusion\\n\\nLLaMA2 marks a pivotal moment in AI and NLP development by democratizing access to cutting-edge models. Its introduction promises to inspire innovation across various industries while enhancing the capabilities of developers and researchers working with natural language technologies. The availability of LLaMA2 is expected to drive improvements in AI application development, making it a valuable resource for businesses and individuals alike.\\n\\n---\\n\\n### LLaMA2 Research Outline\\n\\n1. Overview of LLaMA2\\n2. Key Features\\n   1. Model Variants\\n   2. Extensive Training Data\\n   3. Transformer Architecture\\n   4. Chat Model Fine-Tuning\\n   5. Commercial Use and Open Access\\n   6. Integration Options\\n   7. Community Growth\\n3. Conclusion', additional_kwargs={}, response_metadata={}, name='writing_team', id='83ac19cd-c8ca-4e4b-9f0b-2d8331a78db5')],\n",
       " 'next': '__end__'}"
      ]
     },
     "execution_count": 69,
     "metadata": {},
     "output_type": "execute_result"
    }
   ],
   "source": [
    "response"
   ]
  },
  {
   "cell_type": "code",
   "execution_count": 70,
   "id": "58d3e75f",
   "metadata": {},
   "outputs": [
    {
     "data": {
      "text/plain": [
       "'### LLaMA2 Research Summary\\n\\nLLaMA2 (Large Language Model Meta AI 2) represents a major advancement in natural language processing and was released by Meta AI in July 2023. It is designed to be accessible for both research and commercial applications, a significant contrast to its predecessor, LLaMA, which was strictly non-commercial.\\n\\n#### Key Features of LLaMA2:\\n\\n1. **Model Variants**: LLaMA2 encompasses a range of models with parameters totaling 7 billion, 13 billion, and 70 billion. These variants cater to diverse NLP tasks, including text generation, summarization, and code generation.\\n\\n2. **Extensive Training Data**: With training based on approximately 2 trillion tokens, the models were constructed using a carefully curated dataset that excludes personal data. This focus on high-quality information enhances both safety and performance.\\n\\n3. **Transformer Architecture**: Continuing from its predecessors, LLaMA2 leverages a transformer-based architecture optimized for autoregressive tasks, where the model predicts subsequent words based on the context of preceding text.\\n\\n4. **Chat Model Fine-Tuning**: Beyond the base model, LLaMA2 features specialized \"chat\" models fine-tuned specifically for conversational applications. These have been trained on a significant dataset of 27,000 human-generated dialogues, enabling more coherent and contextually aware conversations.\\n\\n5. **Commercial Use and Open Access**: The shift to an open-access model for LLaMA2 allows developers to exploit its capabilities without the constraints of commercial licenses. This openness is anticipated to spur innovation and expansion in the AI domain.\\n\\n6. **Integration Options**: LLaMA2\\'s architecture facilitates easy integration with popular cloud platforms like Oracle Cloud and Microsoft Azure, streamlining the development of generative AI applications without extensive infrastructure management.\\n\\n7. **Community Growth**: By providing open access to LLaMA2, Meta encourages a collaborative environment where developers can contribute to further enhancements and specialized adaptations of the model, fostering a robust AI ecosystem.\\n\\n#### Conclusion\\n\\nLLaMA2 marks a pivotal moment in AI and NLP development by democratizing access to cutting-edge models. Its introduction promises to inspire innovation across various industries while enhancing the capabilities of developers and researchers working with natural language technologies. The availability of LLaMA2 is expected to drive improvements in AI application development, making it a valuable resource for businesses and individuals alike.\\n\\n---\\n\\n### LLaMA2 Research Outline\\n\\n1. Overview of LLaMA2\\n2. Key Features\\n   1. Model Variants\\n   2. Extensive Training Data\\n   3. Transformer Architecture\\n   4. Chat Model Fine-Tuning\\n   5. Commercial Use and Open Access\\n   6. Integration Options\\n   7. Community Growth\\n3. Conclusion'"
      ]
     },
     "execution_count": 70,
     "metadata": {},
     "output_type": "execute_result"
    }
   ],
   "source": [
    "response[\"messages\"][-1].content"
   ]
  },
  {
   "cell_type": "code",
   "execution_count": null,
   "id": "a8535bed",
   "metadata": {},
   "outputs": [],
   "source": []
  },
  {
   "cell_type": "code",
   "execution_count": null,
   "id": "8902d3bc",
   "metadata": {},
   "outputs": [],
   "source": []
  },
  {
   "cell_type": "code",
   "execution_count": null,
   "id": "ea0caf75",
   "metadata": {},
   "outputs": [],
   "source": []
  }
 ],
 "metadata": {
  "kernelspec": {
   "display_name": "rag-2",
   "language": "python",
   "name": "python3"
  },
  "language_info": {
   "codemirror_mode": {
    "name": "ipython",
    "version": 3
   },
   "file_extension": ".py",
   "mimetype": "text/x-python",
   "name": "python",
   "nbconvert_exporter": "python",
   "pygments_lexer": "ipython3",
   "version": "3.12.9"
  }
 },
 "nbformat": 4,
 "nbformat_minor": 5
}
